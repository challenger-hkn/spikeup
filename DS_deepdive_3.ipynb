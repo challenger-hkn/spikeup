{
 "cells": [
  {
   "attachments": {},
   "cell_type": "markdown",
   "metadata": {},
   "source": [
    "# Data Science Deep Dive 3"
   ]
  },
  {
   "attachments": {},
   "cell_type": "markdown",
   "metadata": {},
   "source": [
    "## What are we going to learn? 🧑‍🏫\n",
    "\n",
    "1. Recap Data Science Deep Dive 2: variables, conditional statements, loops, data types and data structures and operators\n",
    "2. Functions\n",
    "3. Classes - Object Oriented Programming (OOP)\n",
    "4. Pandas - Data Analysis with Python\n",
    "5. Matplotlib - Visualization with Python"
   ]
  },
  {
   "attachments": {},
   "cell_type": "markdown",
   "metadata": {},
   "source": [
    "## Recap Data Science Deep Dive 2"
   ]
  },
  {
   "attachments": {},
   "cell_type": "markdown",
   "metadata": {},
   "source": [
    "### Variables\n",
    "A variable is a named location used to store data in the memory. It is helpful to think of variables as a container that holds data that can be changed later in the program. For example,"
   ]
  },
  {
   "cell_type": "code",
   "execution_count": 39,
   "metadata": {},
   "outputs": [
    {
     "name": "stdout",
     "output_type": "stream",
     "text": [
      "10\n"
     ]
    }
   ],
   "source": [
    "number = 10\n",
    "print(number)"
   ]
  },
  {
   "cell_type": "code",
   "execution_count": null,
   "metadata": {},
   "outputs": [],
   "source": [
    "number = 10\n",
    "number = 5\n",
    "print(number)"
   ]
  },
  {
   "attachments": {},
   "cell_type": "markdown",
   "metadata": {},
   "source": [
    "Question: What will `number` be?"
   ]
  },
  {
   "attachments": {},
   "cell_type": "markdown",
   "metadata": {},
   "source": [
    "Assign multiple variables"
   ]
  },
  {
   "cell_type": "code",
   "execution_count": 41,
   "metadata": {},
   "outputs": [
    {
     "name": "stdout",
     "output_type": "stream",
     "text": [
      "5\n",
      "3.2\n",
      "Hello\n"
     ]
    }
   ],
   "source": [
    "a, b, c = 5, 3.2, \"Hello\"\n",
    "\n",
    "print (a)\n",
    "print (b)\n",
    "print (c)"
   ]
  },
  {
   "attachments": {},
   "cell_type": "markdown",
   "metadata": {},
   "source": [
    "If we want to assign the same value to multiple variables at once, we can do this as:\n"
   ]
  },
  {
   "cell_type": "code",
   "execution_count": 42,
   "metadata": {},
   "outputs": [
    {
     "name": "stdout",
     "output_type": "stream",
     "text": [
      "same\n",
      "same\n",
      "same\n"
     ]
    }
   ],
   "source": [
    "x = y = z = \"same\"\n",
    "\n",
    "print (x)\n",
    "print (y)\n",
    "print (z)"
   ]
  },
  {
   "attachments": {},
   "cell_type": "markdown",
   "metadata": {},
   "source": [
    "#### Rules and Naming Convention for Variables\n",
    "\n",
    "1. Variable names should have a combination of letters in lowercase (a to z) or uppercase (A to Z) or digits (0 to 9) or an underscore (_).\n",
    "2. Create a name that makes sense. For example, `towel` makes more sense than `t`.\n",
    "3. If you want to create a variable name having two words, use underscore to separate them. For example:"
   ]
  },
  {
   "attachments": {},
   "cell_type": "markdown",
   "metadata": {},
   "source": [
    "my_name\n",
    "\n",
    "current_salary"
   ]
  },
  {
   "cell_type": "markdown",
   "metadata": {},
   "source": [
    "Never use special symbols like !, @, #, $, %, etc.\n",
    "Don't start a variable name with a digit.\n"
   ]
  },
  {
   "attachments": {},
   "cell_type": "markdown",
   "metadata": {},
   "source": [
    "### Conditional Statements\n",
    "\n",
    "Conditional statements are used to perform different actions based on different conditions. Python language supports the following conditional statements:\n",
    "\n",
    "* `if` statement is used to check if a condition is `True` or `False`,\n",
    "* `elif` statement (`else if`) is used to check if a condition is `True` or `False` if the previous condition was `False`.\n",
    "* `else` statement is used to execute a block of code if the condition is `False`,\n",
    "\n",
    "Example:\n"
   ]
  },
  {
   "cell_type": "code",
   "execution_count": 43,
   "metadata": {},
   "outputs": [
    {
     "name": "stdout",
     "output_type": "stream",
     "text": [
      "Positive number\n"
     ]
    }
   ],
   "source": [
    "'''In this program, \n",
    "we check if the number is positive or\n",
    "negative or zero and \n",
    "display an appropriate message'''\n",
    "\n",
    "num = 3.4\n",
    "\n",
    "# Try these two variations as well:\n",
    "# num = 0\n",
    "# num = -4.5\n",
    "\n",
    "if num > 0:\n",
    "    print(\"Positive number\")\n",
    "elif num == 0:\n",
    "    print(\"Zero\")\n",
    "else:\n",
    "    print(\"Negative number\")\n"
   ]
  },
  {
   "attachments": {},
   "cell_type": "markdown",
   "metadata": {},
   "source": [
    "### Loops\n",
    "\n",
    "Loop is a programming structure that repeats a sequence of instructions until a specific condition is met. Python language supports the following types of loops:\n",
    "\n",
    "- for loop is used to iterate over a sequence (list, tuple, string) or other iterable objects.\n",
    "- while loop is used to iterate over a block of code as long as the test expression (condition) is true.\n"
   ]
  },
  {
   "cell_type": "code",
   "execution_count": 44,
   "metadata": {},
   "outputs": [
    {
     "name": "stdout",
     "output_type": "stream",
     "text": [
      "0\n",
      "1\n",
      "2\n",
      "3\n",
      "4\n"
     ]
    }
   ],
   "source": [
    "# for loop\n",
    "for i in range(5):\n",
    "    print(i)\n"
   ]
  },
  {
   "cell_type": "code",
   "execution_count": 45,
   "metadata": {},
   "outputs": [
    {
     "name": "stdout",
     "output_type": "stream",
     "text": [
      "0\n",
      "1\n",
      "2\n",
      "3\n",
      "4\n"
     ]
    }
   ],
   "source": [
    "# while loop\n",
    "i = 0\n",
    "while i < 5:\n",
    "    print(i)\n",
    "    i += 1"
   ]
  },
  {
   "attachments": {},
   "cell_type": "markdown",
   "metadata": {},
   "source": [
    "#### Break and Continue\n",
    "The continue and break statements can be used within the bodies of both for-loops and while-loops. They provide added means for “short-circuiting” or prematurely exiting a given loop, respectively.\n",
    "\n",
    "Encountering break within a given loop causes that loop to be exited immediately:"
   ]
  },
  {
   "cell_type": "code",
   "execution_count": 46,
   "metadata": {},
   "outputs": [
    {
     "name": "stdout",
     "output_type": "stream",
     "text": [
      "0  ...next iteration\n",
      "1  ...next iteration\n",
      "2  ...next iteration\n",
      "3  ...break!\n"
     ]
    }
   ],
   "source": [
    "# breaking out of a loop early\n",
    "for i in range(5):\n",
    "    if i == 3:\n",
    "        print(i, \" ...break!\")\n",
    "        break\n",
    "    print(i, \" ...next iteration\")"
   ]
  },
  {
   "attachments": {},
   "cell_type": "markdown",
   "metadata": {},
   "source": [
    "The continue statement, when encountered within a loop, causes the loop-statement to be revisited immediately."
   ]
  },
  {
   "cell_type": "code",
   "execution_count": 47,
   "metadata": {},
   "outputs": [
    {
     "name": "stdout",
     "output_type": "stream",
     "text": [
      "x =  1 >> enter loop-body <<\n",
      "--reached end of loop-body--\n",
      "x =  2 >> enter loop-body <<\n",
      "x =  2  continue...back to the top of the loop!\n",
      "x =  3 >> enter loop-body <<\n",
      "--reached end of loop-body--\n"
     ]
    }
   ],
   "source": [
    "# demonstrating a `continue` statement in a loop\n",
    "x = 1\n",
    "while x < 4:\n",
    "    print(\"x = \", x, \">> enter loop-body <<\")\n",
    "    if x == 2:\n",
    "        print(\"x = \", x, \" continue...back to the top of the loop!\")\n",
    "        x += 1\n",
    "        continue\n",
    "    x += 1\n",
    "    print(\"--reached end of loop-body--\")"
   ]
  },
  {
   "attachments": {},
   "cell_type": "markdown",
   "metadata": {},
   "source": [
    "### Data Types and Data Structure\n",
    "\n",
    "Data types are the classification or categorization of data items:\n",
    "\n",
    "* **Integers** are whole numbers, e.g. `1`, `2`, `3`, `4`, `5`, etc.\n",
    "* **Floats** are numbers with a decimal point, e.g. `1.0`, `2.0`, `3.0`, `4.0`, `5.0`, etc.\n",
    "* **Strings** are sequences of characters, e.g. `\"Hello\"`, `\"World\"`, `\"Python\"`, etc.\n",
    "* **Booleans** are either `True` or `False`."
   ]
  },
  {
   "cell_type": "code",
   "execution_count": 48,
   "metadata": {},
   "outputs": [
    {
     "name": "stdout",
     "output_type": "stream",
     "text": [
      "1 is of type <class 'int'>\n",
      "2.0 is of type <class 'float'>\n",
      "Hello is of type <class 'str'>\n",
      "True is of type <class 'bool'>\n"
     ]
    }
   ],
   "source": [
    "num = 1\n",
    "float_num = 2.0\n",
    "string = \"Hello\"\n",
    "boolean = True\n",
    "\n",
    "print(f\"{num} is of type {type(num)}\")\n",
    "print(f\"{float_num} is of type {type(float_num)}\")\n",
    "print(f\"{string} is of type {type(string)}\")\n",
    "print(f\"{boolean} is of type {type(boolean)}\")"
   ]
  },
  {
   "attachments": {},
   "cell_type": "markdown",
   "metadata": {},
   "source": [
    "Data structures are used to store collections of data, which can be of different types. Python language supports the following types of data structures:\n",
    "\n",
    "* **List** is a collection which is ordered and changeable. Allows duplicate members.\n",
    "* **Tuple** is a collection which is ordered and unchangeable. Allows duplicate members.\n",
    "* **Dictionary** is a collection which is unordered, changeable and indexed. No duplicate members.\n",
    "* **Set** is a collection which is unordered and unindexed. No duplicate members."
   ]
  },
  {
   "attachments": {},
   "cell_type": "markdown",
   "metadata": {},
   "source": [
    "#### List\n",
    "We'll learn everything about Python lists, how they are created, slicing of a list, adding or removing elements from them and so on.\n",
    "\n",
    "\n",
    "Python offers a range of compound data types often referred to as sequences. List is one of the most frequently used and very versatile data types used in Python.\n",
    " \n",
    "How to create a list?\n",
    "In Python programming, a list is created by placing all the items (elements) inside square brackets [], separated by commas.\n",
    "It can have any number of items and they may be of different types (integer, float, string etc.).\n"
   ]
  },
  {
   "cell_type": "code",
   "execution_count": 49,
   "metadata": {},
   "outputs": [],
   "source": [
    "# empty list\n",
    "my_list = []\n",
    "\n",
    "# list of integers\n",
    "my_list = [1, 2, 3]\n",
    "\n",
    "# list with mixed data types\n",
    "my_list = [1, \"Hello\", 3.4]"
   ]
  },
  {
   "attachments": {},
   "cell_type": "markdown",
   "metadata": {},
   "source": [
    "A list can also have another list as an item. This is called a nested list."
   ]
  },
  {
   "cell_type": "code",
   "execution_count": 50,
   "metadata": {},
   "outputs": [],
   "source": [
    "# nested list\n",
    "my_list = [\"mouse\", [8, 4, 6], ['a']]\n"
   ]
  },
  {
   "cell_type": "markdown",
   "metadata": {},
   "source": [
    "How to access elements from a list?\n",
    "\n",
    "There are various ways in which we can access the elements of a list.\n",
    "\n",
    "List Index\n",
    "\n",
    "We can use the index operator [] to access an item in a list. In Python, indices start at 0. So, a list having 5 elements will have an index from 0 to 4.\n",
    "\n",
    "Trying to access indexes other than these will raise an IndexError. The index must be an integer. We can't use float or other types, this will result in TypeError.\n",
    "\n",
    "Nested lists are accessed using nested indexing.\n"
   ]
  },
  {
   "cell_type": "code",
   "execution_count": 51,
   "metadata": {},
   "outputs": [
    {
     "name": "stdout",
     "output_type": "stream",
     "text": [
      "p\n",
      "o\n",
      "e\n",
      "a\n",
      "5\n"
     ]
    },
    {
     "ename": "TypeError",
     "evalue": "list indices must be integers or slices, not float",
     "output_type": "error",
     "traceback": [
      "\u001b[0;31m---------------------------------------------------------------------------\u001b[0m",
      "\u001b[0;31mTypeError\u001b[0m                                 Traceback (most recent call last)",
      "Cell \u001b[0;32mIn[51], line 23\u001b[0m\n\u001b[1;32m     20\u001b[0m \u001b[39mprint\u001b[39m(n_list[\u001b[39m1\u001b[39m][\u001b[39m3\u001b[39m])\n\u001b[1;32m     22\u001b[0m \u001b[39m# Error! Only integer can be used for indexing\u001b[39;00m\n\u001b[0;32m---> 23\u001b[0m \u001b[39mprint\u001b[39m(my_list[\u001b[39m4.0\u001b[39;49m])\n",
      "\u001b[0;31mTypeError\u001b[0m: list indices must be integers or slices, not float"
     ]
    }
   ],
   "source": [
    "# List indexing\n",
    "\n",
    "my_list = ['p', 'r', 'o', 'b', 'e']\n",
    "\n",
    "# Output: p\n",
    "print(my_list[0])\n",
    "\n",
    "# Output: o\n",
    "print(my_list[2])\n",
    "\n",
    "# Output: e\n",
    "print(my_list[4])\n",
    "\n",
    "# Nested List\n",
    "n_list = [\"Happy\", [2, 0, 1, 5]]\n",
    "\n",
    "# Nested indexing\n",
    "print(n_list[0][1])\n",
    "\n",
    "print(n_list[1][3])\n",
    "\n",
    "# Error! Only integer can be used for indexing\n",
    "print(my_list[4.0])\n"
   ]
  },
  {
   "attachments": {},
   "cell_type": "markdown",
   "metadata": {},
   "source": [
    "Negative indexing\n",
    "\n",
    "Python allows negative indexing for its sequences. The index of -1 refers to the last item, -2 to the second last item and so on.\n"
   ]
  },
  {
   "cell_type": "code",
   "execution_count": null,
   "metadata": {},
   "outputs": [
    {
     "name": "stdout",
     "output_type": "stream",
     "text": [
      "e\n",
      "p\n"
     ]
    }
   ],
   "source": [
    "# Negative indexing in lists\n",
    "my_list = ['p','r','o','b','e']\n",
    "\n",
    "print(my_list[-1])\n",
    "\n",
    "print(my_list[-5])\n"
   ]
  },
  {
   "attachments": {},
   "cell_type": "markdown",
   "metadata": {},
   "source": [
    "How to slice lists in Python?\n",
    "\n",
    "We can access a range of items in a list by using the slicing operator :(colon).\n"
   ]
  },
  {
   "cell_type": "code",
   "execution_count": null,
   "metadata": {},
   "outputs": [],
   "source": [
    "# List slicing in Python\n",
    "\n",
    "my_list = ['p','r','o','g','r','a','m','i','z']\n",
    "\n",
    "# elements 3rd to 5th\n",
    "print(my_list[2:5])\n",
    "\n",
    "# elements beginning to 4th\n",
    "print(my_list[:-5])\n",
    "\n",
    "# elements 6th to end\n",
    "print(my_list[5:])\n",
    "\n",
    "# elements beginning to end\n",
    "print(my_list[:])"
   ]
  },
  {
   "attachments": {},
   "cell_type": "markdown",
   "metadata": {},
   "source": [
    "How to change or add elements to a list?\n",
    "\n",
    "Lists are mutable, meaning their elements can be changed unlike string or tuple.\n",
    "We can use the assignment operator (=) to change an item or a range of items.\n"
   ]
  },
  {
   "cell_type": "code",
   "execution_count": null,
   "metadata": {},
   "outputs": [
    {
     "name": "stdout",
     "output_type": "stream",
     "text": [
      "[1, 4, 6, 8]\n",
      "[1, 3, 5, 7]\n"
     ]
    }
   ],
   "source": [
    "# Correcting mistake values in a list\n",
    "odd = [2, 4, 6, 8]\n",
    "\n",
    "# change the 1st item    \n",
    "odd[0] = 1            \n",
    "\n",
    "print(odd)\n",
    "\n",
    "# change 2nd to 4th items\n",
    "odd[1:4] = [3, 5, 7]  \n",
    "\n",
    "print(odd)                   \n"
   ]
  },
  {
   "cell_type": "markdown",
   "metadata": {},
   "source": [
    "We can add one item to a list using the append() method or add several items using extend() method."
   ]
  },
  {
   "cell_type": "code",
   "execution_count": null,
   "metadata": {},
   "outputs": [
    {
     "name": "stdout",
     "output_type": "stream",
     "text": [
      "[1, 3, 5, 7]\n",
      "[1, 3, 5, 7, 9, 11, 13]\n"
     ]
    }
   ],
   "source": [
    "# Appending and Extending lists in Python\n",
    "odd = [1, 3, 5]\n",
    "\n",
    "odd.append(7)\n",
    "\n",
    "print(odd)\n",
    "\n",
    "odd.extend([9, 11, 13])\n",
    "\n",
    "print(odd)\n"
   ]
  },
  {
   "cell_type": "markdown",
   "metadata": {},
   "source": [
    "We can also use + operator to combine two lists. This is also called concatenation.\n",
    "The * operator repeats a list for the given number of times.\n"
   ]
  },
  {
   "cell_type": "code",
   "execution_count": null,
   "metadata": {},
   "outputs": [
    {
     "name": "stdout",
     "output_type": "stream",
     "text": [
      "[1, 3, 5, 9, 7, 5]\n",
      "['re', 're', 're']\n"
     ]
    }
   ],
   "source": [
    "# Concatenating and repeating lists\n",
    "odd = [1, 3, 5]\n",
    "\n",
    "print(odd + [9, 7, 5])\n",
    "\n",
    "print([\"re\"] * 3)\n"
   ]
  },
  {
   "cell_type": "markdown",
   "metadata": {},
   "source": [
    "Furthermore, we can insert one item at a desired location by using the method insert() or insert multiple items by squeezing it into an empty slice of a list."
   ]
  },
  {
   "cell_type": "code",
   "execution_count": null,
   "metadata": {},
   "outputs": [
    {
     "name": "stdout",
     "output_type": "stream",
     "text": [
      "[1, 3, 9]\n",
      "[1, 3, 5, 7, 9]\n"
     ]
    }
   ],
   "source": [
    "# Demonstration of list insert() method\n",
    "odd = [1, 9]\n",
    "odd.insert(1,3)\n",
    "\n",
    "print(odd)\n",
    "\n",
    "odd[2:2] = [5, 7]\n",
    "\n",
    "print(odd)\n"
   ]
  },
  {
   "attachments": {},
   "cell_type": "markdown",
   "metadata": {},
   "source": [
    "How to delete or remove elements from a list?\n",
    "\n",
    "We can delete one or more items from a list using the keyword del. It can even delete the list entirely.\n"
   ]
  },
  {
   "cell_type": "code",
   "execution_count": null,
   "metadata": {},
   "outputs": [
    {
     "name": "stdout",
     "output_type": "stream",
     "text": [
      "['p', 'r', 'b', 'l', 'e', 'm']\n",
      "['p', 'm']\n"
     ]
    },
    {
     "ename": "NameError",
     "evalue": "name 'my_list' is not defined",
     "output_type": "error",
     "traceback": [
      "\u001b[0;31m---------------------------------------------------------------------------\u001b[0m\n",
      "\u001b[0;31mNameError\u001b[0m                                 Traceback (most recent call last)\n",
      "\u001b[0;32m<ipython-input-9-081d50d030eb>\u001b[0m in \u001b[0;36m<module>\u001b[0;34m\u001b[0m\n",
      "\u001b[1;32m     16\u001b[0m \u001b[0;34m\u001b[0m\u001b[0m\n",
      "\u001b[1;32m     17\u001b[0m \u001b[0;31m# Error: List not defined\u001b[0m\u001b[0;34m\u001b[0m\u001b[0;34m\u001b[0m\u001b[0;34m\u001b[0m\u001b[0m\n",
      "\u001b[0;32m---> 18\u001b[0;31m \u001b[0mprint\u001b[0m\u001b[0;34m(\u001b[0m\u001b[0mmy_list\u001b[0m\u001b[0;34m)\u001b[0m\u001b[0;34m\u001b[0m\u001b[0;34m\u001b[0m\u001b[0m\n",
      "\u001b[0m\n",
      "\u001b[0;31mNameError\u001b[0m: name 'my_list' is not defined"
     ]
    }
   ],
   "source": [
    "# Deleting list items\n",
    "my_list = ['p', 'r', 'o', 'b', 'l', 'e', 'm']\n",
    "\n",
    "# delete one item\n",
    "del my_list[2]\n",
    "\n",
    "print(my_list)\n",
    "\n",
    "# delete multiple items\n",
    "del my_list[1:5]\n",
    "\n",
    "print(my_list)\n",
    "\n",
    "# delete entire list\n",
    "del my_list\n",
    "\n",
    "# Error: List not defined\n",
    "print(my_list)\n"
   ]
  },
  {
   "cell_type": "markdown",
   "metadata": {},
   "source": [
    "We can use remove() method to remove the given item or pop() method to remove an item at the given index.\n",
    "\n",
    "The pop() method removes and returns the last item if the index is not provided. This helps us implement lists as stacks (first in, last out data structure).\n",
    "\n",
    "We can also use the clear() method to empty a list.\n"
   ]
  },
  {
   "cell_type": "code",
   "execution_count": null,
   "metadata": {},
   "outputs": [
    {
     "name": "stdout",
     "output_type": "stream",
     "text": [
      "['r', 'o', 'b', 'l', 'e', 'm']\n",
      "o\n",
      "['r', 'b', 'l', 'e', 'm']\n",
      "m\n",
      "['r', 'b', 'l', 'e']\n",
      "[]\n"
     ]
    }
   ],
   "source": [
    "my_list = ['p','r','o','b','l','e','m']\n",
    "my_list.remove('p')\n",
    "\n",
    "# Output: ['r', 'o', 'b', 'l', 'e', 'm']\n",
    "print(my_list)\n",
    "\n",
    "# Output: 'o'\n",
    "print(my_list.pop(1))\n",
    "\n",
    "# Output: ['r', 'b', 'l', 'e', 'm']\n",
    "print(my_list)\n",
    "\n",
    "# Output: 'm'\n",
    "print(my_list.pop())\n",
    "\n",
    "# Output: ['r', 'b', 'l', 'e']\n",
    "print(my_list)\n",
    "\n",
    "my_list.clear()\n",
    "\n",
    "# Output: []\n",
    "print(my_list)\n"
   ]
  },
  {
   "cell_type": "markdown",
   "metadata": {},
   "source": [
    "Finally, we can also delete items in a list by assigning an empty list to a slice of elements."
   ]
  },
  {
   "cell_type": "code",
   "execution_count": null,
   "metadata": {},
   "outputs": [
    {
     "data": {
      "text/plain": [
       "['p', 'r', 'm']"
      ]
     },
     "execution_count": 1,
     "metadata": {},
     "output_type": "execute_result"
    }
   ],
   "source": [
    ">>> my_list = ['p','r','o','b','l','e','m']\n",
    ">>> my_list[2:3] = []\n",
    ">>> my_list\n",
    "['p', 'r', 'b', 'l', 'e', 'm']\n",
    ">>> my_list[2:5] = []\n",
    ">>> my_list\n",
    "['p', 'r', 'm']\n"
   ]
  },
  {
   "attachments": {},
   "cell_type": "markdown",
   "metadata": {},
   "source": [
    "Python List Methods\n",
    "Methods that are available with list objects in Python programming are tabulated below.\n",
    "They are accessed as list.method(). Some of the methods have already been used above.\n",
    "Python List Methods\n",
    "\n",
    "- append() - Add an element to the end of the list\n",
    "\n",
    "- extend() - Add all elements of a list to the another list\n",
    "\n",
    "- insert() - Insert an item at the defined index\n",
    "\n",
    "- remove() - Removes an item from the list\n",
    "\n",
    "- pop() - Removes and returns an element at the given index\n",
    "\n",
    "- clear() - Removes all items from the list\n",
    "\n",
    "- index() - Returns the index of the first matched item\n",
    "\n",
    "- count() - Returns the count of the number of items passed as an argument\n",
    "\n",
    "- sort() - Sort items in a list in ascending order\n",
    "\n",
    "- reverse() - Reverse the order of items in the list\n",
    "\n",
    "- copy() - Returns a shallow copy of the list\n",
    "\n"
   ]
  },
  {
   "cell_type": "code",
   "execution_count": null,
   "metadata": {},
   "outputs": [
    {
     "name": "stdout",
     "output_type": "stream",
     "text": [
      "1\n",
      "2\n",
      "[0, 1, 3, 4, 6, 8, 8]\n",
      "[8, 8, 6, 4, 3, 1, 0]\n"
     ]
    }
   ],
   "source": [
    "# Python list methods\n",
    "my_list = [3, 8, 1, 6, 0, 8, 4]\n",
    "\n",
    "# Output: 1\n",
    "print(my_list.index(8))\n",
    "\n",
    "# Output: 2\n",
    "print(my_list.count(8))\n",
    "\n",
    "my_list.sort()\n",
    "\n",
    "# Output: [0, 1, 3, 4, 6, 8, 8]\n",
    "print(my_list)\n",
    "\n",
    "my_list.reverse()\n",
    "\n",
    "# Output: [8, 8, 6, 4, 3, 1, 0]\n",
    "print(my_list)\n"
   ]
  },
  {
   "attachments": {},
   "cell_type": "markdown",
   "metadata": {},
   "source": [
    "#### Tuple\n",
    "Unlike lists, tuples are immutable.\n",
    "This means that elements of a tuple cannot be changed once they have been assigned. But, if the element is itself a mutable data type like list, its nested items can be changed.\n",
    "We can also assign a tuple to different values (reassignment).\n"
   ]
  },
  {
   "cell_type": "code",
   "execution_count": null,
   "metadata": {},
   "outputs": [
    {
     "name": "stdout",
     "output_type": "stream",
     "text": [
      "(4, 2, 3, [9, 5])\n",
      "('p', 'r', 'o', 'g', 'r', 'a', 'm', 'i', 'z')\n"
     ]
    }
   ],
   "source": [
    "# Changing tuple values\n",
    "my_tuple = (4, 2, 3, [6, 5])\n",
    "\n",
    "\n",
    "# TypeError: 'tuple' object does not support item assignment\n",
    "# my_tuple[1] = 9\n",
    "\n",
    "# However, item of mutable element can be changed\n",
    "my_tuple[3][0] = 9    # Output: (4, 2, 3, [9, 5])\n",
    "print(my_tuple)\n",
    "\n",
    "# Tuples can be reassigned\n",
    "my_tuple = ('p', 'r', 'o', 'g', 'r', 'a', 'm', 'i', 'z')\n",
    "\n",
    "# Output: ('p', 'r', 'o', 'g', 'r', 'a', 'm', 'i', 'z')\n",
    "print(my_tuple)\n"
   ]
  },
  {
   "cell_type": "markdown",
   "metadata": {},
   "source": [
    "We can use + operator to combine two tuples. This is called concatenation.\n",
    "We can also repeat the elements in a tuple for a given number of times using the * operator.\n",
    "Both + and * operations result in a new tuple.\n"
   ]
  },
  {
   "cell_type": "code",
   "execution_count": null,
   "metadata": {},
   "outputs": [],
   "source": [
    "# Concatenation\n",
    "# Output: (1, 2, 3, 4, 5, 6)\n",
    "print((1, 2, 3) + (4, 5, 6))\n",
    "\n",
    "# Repeat\n",
    "# Output: ('Repeat', 'Repeat', 'Repeat')\n",
    "print((\"Repeat\",) * 3)\n"
   ]
  },
  {
   "attachments": {},
   "cell_type": "markdown",
   "metadata": {},
   "source": [
    "Deleting a Tuple\n",
    "\n",
    "As discussed above, we cannot change the elements in a tuple. It means that we cannot delete or remove items from a tuple.\n",
    "Deleting a tuple entirely, however, is possible using the keyword del.\n"
   ]
  },
  {
   "cell_type": "code",
   "execution_count": null,
   "metadata": {},
   "outputs": [],
   "source": [
    "# Deleting tuples\n",
    "my_tuple = ('p', 'r', 'o', 'g', 'r', 'a', 'm', 'i', 'z')\n",
    "\n",
    "# can't delete items\n",
    "# TypeError: 'tuple' object doesn't support item deletion\n",
    "# del my_tuple[3]\n",
    "\n",
    "# Can delete an entire tuple\n",
    "del my_tuple\n",
    "\n",
    "# NameError: name 'my_tuple' is not defined\n",
    "print(my_tuple)\n"
   ]
  },
  {
   "attachments": {},
   "cell_type": "markdown",
   "metadata": {},
   "source": [
    "Tuple Methods\n",
    "\n",
    "Methods that add items or remove items are not available with tuple. Only the following two methods are available.\n",
    "Some examples of Python tuple methods:\n"
   ]
  },
  {
   "cell_type": "code",
   "execution_count": null,
   "metadata": {},
   "outputs": [
    {
     "name": "stdout",
     "output_type": "stream",
     "text": [
      "2\n",
      "3\n"
     ]
    }
   ],
   "source": [
    "my_tuple = ('a', 'p', 'p', 'l', 'e',)\n",
    "\n",
    "print(my_tuple.count('p'))  # Output: 2\n",
    "print(my_tuple.index('l'))  # Output: 3\n"
   ]
  },
  {
   "attachments": {},
   "cell_type": "markdown",
   "metadata": {},
   "source": [
    "#### Tuple Membership Test\n",
    "We can test if an item exists in a tuple or not, using the keyword in.\n"
   ]
  },
  {
   "cell_type": "code",
   "execution_count": null,
   "metadata": {},
   "outputs": [],
   "source": [
    "# Membership test in tuple\n",
    "my_tuple = ('a', 'p', 'p', 'l', 'e',)\n",
    "\n",
    "# In operation\n",
    "print('a' in my_tuple)\n",
    "print('b' in my_tuple)\n",
    "\n",
    "# Not in operation\n",
    "print('g' not in my_tuple)\n"
   ]
  },
  {
   "cell_type": "markdown",
   "metadata": {},
   "source": [
    "Advantages of Tuple over List\n",
    "Since tuples are quite similar to lists, both of them are used in similar situations. However, there are certain advantages of implementing a tuple over a list. Below listed are some of the main advantages:\n",
    "1. We generally use tuples for heterogeneous (different) data types and lists for homogeneous (similar) data types.\n",
    "2. Since tuples are immutable, iterating through a tuple is faster than with list. So there is a slight performance boost.\n",
    "3. Tuples that contain immutable elements can be used as a key for a dictionary. With lists, this is not possible.\n",
    "4. If you have data that doesn't change, implementing it as tuple will guarantee that it remains write-protected.\n"
   ]
  },
  {
   "attachments": {},
   "cell_type": "markdown",
   "metadata": {},
   "source": [
    "#### Python Dictionary\n",
    "In this tutorial, you'll learn everything about Python dictionaries; how they are created, accessing, adding, removing elements from them and various built-in methods.\n",
    "Python dictionary is an unordered collection of items. Each item of a dictionary has a key/value pair.\n",
    "Dictionaries are optimized to retrieve values when the key is known.\n",
    " \n",
    "#### Creating Python Dictionary\n",
    "Creating a dictionary is as simple as placing items inside curly braces {} separated by commas.\n",
    "An item has a key and a corresponding value that is expressed as a pair (key: value).\n",
    "While the values can be of any data type and can repeat, keys must be of immutable type (string, number or tuple with immutable elements) and must be unique.\n"
   ]
  },
  {
   "cell_type": "code",
   "execution_count": null,
   "metadata": {},
   "outputs": [
    {
     "name": "stdout",
     "output_type": "stream",
     "text": [
      "{1: 'apple', 2: 'ball'}\n"
     ]
    }
   ],
   "source": [
    "# empty dictionary\n",
    "my_dict = {}\n",
    "\n",
    "# dictionary with integer keys\n",
    "my_dict = {1: 'apple', 2: 'ball'}\n",
    "\n",
    "# dictionary with mixed keys\n",
    "my_dict = {'name': 'John', 1: [2, 4, 3]}\n",
    "\n",
    "# using dict()\n",
    "my_dict = dict({1:'apple', 2:'ball'})\n",
    "\n",
    "# from sequence having each item as a pair\n",
    "my_dict = dict([(1,'apple'), (2,'ball')])"
   ]
  },
  {
   "cell_type": "markdown",
   "metadata": {},
   "source": [
    "As you can see from above, we can also create a dictionary using the built-in dict() function.\n",
    " \n",
    "#### Accessing Elements from Dictionary\n",
    "While indexing is used with other data types to access values, a dictionary uses keys. Keys can be used either inside square brackets [] or with the get() method.\n",
    "If we use the square brackets [], KeyError is raised in case a key is not found in the dictionary. On the other hand, the get() method returns None if the key is not found.\n"
   ]
  },
  {
   "cell_type": "code",
   "execution_count": null,
   "metadata": {},
   "outputs": [],
   "source": [
    "# get vs [] for retrieving elements\n",
    "my_dict = {'name': 'Jack', 'age': 26}\n",
    "\n",
    "# Output: Jack\n",
    "print(my_dict['name'])\n",
    "\n",
    "# Output: 26\n",
    "print(my_dict.get('age'))\n",
    "\n",
    "# Trying to access keys which doesn't exist throws error\n",
    "# Output None\n",
    "print(my_dict.get('address'))\n",
    "\n",
    "# KeyError\n",
    "print(my_dict['address'])\n"
   ]
  },
  {
   "attachments": {},
   "cell_type": "markdown",
   "metadata": {},
   "source": [
    "#### Changing and Adding Dictionary elements\n",
    "\n",
    "Dictionaries are mutable. We can add new items or change the value of existing items using an assignment operator.\n",
    "If the key is already present, then the existing value gets updated. In case the key is not present, a new (key: value) pair is added to the dictionary.\n"
   ]
  },
  {
   "cell_type": "code",
   "execution_count": null,
   "metadata": {},
   "outputs": [],
   "source": [
    "# Changing and adding Dictionary Elements\n",
    "my_dict = {'name': 'Jack', 'age': 26}\n",
    "\n",
    "# update value\n",
    "my_dict['age'] = 27\n",
    "\n",
    "#Output: {'age': 27, 'name': 'Jack'}\n",
    "print(my_dict)\n",
    "\n",
    "# add item\n",
    "my_dict['address'] = 'Downtown'\n",
    "\n",
    "# Output: {'address': 'Downtown', 'age': 27, 'name': 'Jack'}\n",
    "print(my_dict)\n"
   ]
  },
  {
   "cell_type": "code",
   "execution_count": null,
   "metadata": {},
   "outputs": [],
   "source": [
    "# Removing elements from a dictionary\n",
    "\n",
    "# create a dictionary\n",
    "squares = {1: 1, 2: 4, 3: 9, 4: 16, 5: 25}\n",
    "\n",
    "# remove a particular item, returns its value\n",
    "# Output: 16\n",
    "print(squares.pop(4))\n",
    "\n",
    "# Output: {1: 1, 2: 4, 3: 9, 5: 25}\n",
    "print(squares)\n",
    "\n",
    "# remove an arbitrary item, return (key,value)\n",
    "# Output: (5, 25)\n",
    "print(squares.popitem())\n",
    "\n",
    "# Output: {1: 1, 2: 4, 3: 9}\n",
    "print(squares)\n",
    "\n",
    "# remove all items\n",
    "squares.clear()\n",
    "\n",
    "# Output: {}\n",
    "print(squares)\n",
    "\n",
    "# delete the dictionary itself\n",
    "del squares\n",
    "\n",
    "# Throws Error\n",
    "print(squares)\n"
   ]
  },
  {
   "attachments": {},
   "cell_type": "markdown",
   "metadata": {},
   "source": [
    "### Dictionary Methods\n",
    "Methods that are available with a dictionary are tabulated below. Some of them have already been used in the above examples.\n",
    "Method\tDescription\n",
    "\n",
    "- clear()\n",
    "Removes all items from the dictionary\n",
    "\n",
    "- copy()\n",
    "Returns a shallow copy of the dictionary.\n",
    "\n",
    "- fromkeys(seq[, v])\n",
    "Returns a new dictionary with keys from seq and value equal to v (defaults to None).\n",
    "\n",
    "- get(key[,d])\n",
    "Returns the value of the key. If the key does not exist, returns d (defaults to None).\n",
    "\n",
    "- items()\n",
    "Return a new object of the dictionary's items in (key, value) format.\n",
    "\n",
    "- keys()\n",
    "Returns a new object of the dictionary's keys.\n",
    "\n",
    "- pop(key[,d])\n",
    "Removes the item with the key and returns its value or d if key is not found. If d is not provided and the key is not found, it raises KeyError.\n",
    "\n",
    "- popitem()\n",
    "Removes and returns an arbitrary item (key, value). Raises KeyError if the dictionary is empty.\n",
    "\n",
    "- setdefault(key[,d])\n",
    "Returns the corresponding value if the key is in the dictionary. If not, inserts the key with a value of d and returns d (defaults to None).\n",
    "\n",
    "- update([other])\n",
    "Updates the dictionary with the key/value pairs from other, overwriting existing keys.\n",
    "\n",
    "- values()\n",
    "Returns a new object of the dictionary's values\n"
   ]
  },
  {
   "cell_type": "code",
   "execution_count": null,
   "metadata": {},
   "outputs": [
    {
     "name": "stdout",
     "output_type": "stream",
     "text": [
      "{'Math': 0, 'English': 0, 'Science': 0}\n",
      "('Math', 0)\n",
      "('English', 0)\n",
      "('Science', 0)\n",
      "['English', 'Math', 'Science']\n"
     ]
    }
   ],
   "source": [
    "# Dictionary Methods\n",
    "marks = {}.fromkeys(['Math', 'English', 'Science'], 0)\n",
    "\n",
    "# Output: {'English': 0, 'Math': 0, 'Science': 0}\n",
    "print(marks)\n",
    "\n",
    "for item in marks.items():\n",
    "    print(item)\n",
    "\n",
    "# Output: ['English', 'Math', 'Science']\n",
    "print(list(sorted(marks.keys())))\n"
   ]
  },
  {
   "attachments": {},
   "cell_type": "markdown",
   "metadata": {},
   "source": [
    "#### Dictionary Membership Test\n",
    "We can test if a key is in a dictionary or not using the keyword in. Notice that the membership test is only for the keys and not for the values.\n"
   ]
  },
  {
   "cell_type": "code",
   "execution_count": null,
   "metadata": {},
   "outputs": [],
   "source": [
    "# Membership Test for Dictionary Keys\n",
    "squares = {1: 1, 3: 9, 5: 25, 7: 49, 9: 81}\n",
    "\n",
    "# Output: True\n",
    "print(1 in squares)\n",
    "\n",
    "# Output: True\n",
    "print(2 not in squares)\n",
    "\n",
    "# membership tests for key only not value\n",
    "# Output: False\n",
    "print(49 in squares)\n"
   ]
  },
  {
   "attachments": {},
   "cell_type": "markdown",
   "metadata": {},
   "source": [
    "#### Sets\n",
    "You'll learn everything about Python sets; how they are created, adding or removing elements from them, and all operations performed on sets in Python.\n",
    "A set is an unordered collection of items. Every set element is unique (no duplicates) and must be immutable (cannot be changed).\n",
    "However, a set itself is mutable. We can add or remove items from it.\n",
    "Sets can also be used to perform mathematical set operations like union, intersection, symmetric difference, etc.\n",
    " \n",
    "Creating Python Sets\n",
    "A set is created by placing all the items (elements) inside curly braces {}, separated by comma, or by using the built-in set() function.\n",
    "It can have any number of items and they may be of different types (integer, float, tuple, string etc.). But a set cannot have mutable elements like lists, sets or dictionaries as its elements.\n"
   ]
  },
  {
   "cell_type": "code",
   "execution_count": null,
   "metadata": {},
   "outputs": [
    {
     "name": "stdout",
     "output_type": "stream",
     "text": [
      "{1, 2, 3}\n",
      "{1.0, (1, 2, 3), 'Hello'}\n"
     ]
    }
   ],
   "source": [
    "# Different types of sets in Python\n",
    "# set of integers\n",
    "my_set = {1, 2, 3}\n",
    "print(my_set)\n",
    "\n",
    "# set of mixed datatypes\n",
    "my_set = {1.0, \"Hello\", (1, 2, 3)}\n",
    "print(my_set)\n"
   ]
  },
  {
   "cell_type": "code",
   "execution_count": null,
   "metadata": {},
   "outputs": [
    {
     "name": "stdout",
     "output_type": "stream",
     "text": [
      "{1, 2, 3, 4}\n",
      "{1, 2, 3}\n"
     ]
    },
    {
     "ename": "TypeError",
     "evalue": "unhashable type: 'list'",
     "output_type": "error",
     "traceback": [
      "\u001b[0;31m---------------------------------------------------------------------------\u001b[0m",
      "\u001b[0;31mTypeError\u001b[0m                                 Traceback (most recent call last)",
      "Cell \u001b[0;32mIn[35], line 15\u001b[0m\n\u001b[1;32m      9\u001b[0m \u001b[39mprint\u001b[39m(my_set)\n\u001b[1;32m     11\u001b[0m \u001b[39m# set cannot have mutable items\u001b[39;00m\n\u001b[1;32m     12\u001b[0m \u001b[39m# here [3, 4] is a mutable list\u001b[39;00m\n\u001b[1;32m     13\u001b[0m \u001b[39m# this will cause an error.\u001b[39;00m\n\u001b[0;32m---> 15\u001b[0m my_set \u001b[39m=\u001b[39m {\u001b[39m1\u001b[39m, \u001b[39m2\u001b[39m, [\u001b[39m3\u001b[39m, \u001b[39m4\u001b[39m]}\n",
      "\u001b[0;31mTypeError\u001b[0m: unhashable type: 'list'"
     ]
    }
   ],
   "source": [
    "# set cannot have duplicates\n",
    "# Output: {1, 2, 3, 4}\n",
    "my_set = {1, 2, 3, 4, 3, 2}\n",
    "print(my_set)\n",
    "\n",
    "# we can make set from a list\n",
    "# Output: {1, 2, 3}\n",
    "my_set = set([1, 2, 3, 2])\n",
    "print(my_set)\n",
    "\n",
    "# set cannot have mutable items\n",
    "# here [3, 4] is a mutable list\n",
    "# this will cause an error.\n",
    "\n",
    "my_set = {1, 2, [3, 4]}\n"
   ]
  },
  {
   "cell_type": "markdown",
   "metadata": {},
   "source": [
    "Creating an empty set is a bit tricky.\n",
    "Empty curly braces {} will make an empty dictionary in Python. To make a set without any elements, we use the set() function without any argument.\n"
   ]
  },
  {
   "cell_type": "code",
   "execution_count": null,
   "metadata": {},
   "outputs": [
    {
     "name": "stdout",
     "output_type": "stream",
     "text": [
      "<class 'dict'>\n",
      "<class 'set'>\n"
     ]
    }
   ],
   "source": [
    "# Distinguish set and dictionary while creating empty set\n",
    "\n",
    "# initialize a with {}\n",
    "a = {}\n",
    "\n",
    "# check data type of a\n",
    "print(type(a))\n",
    "\n",
    "# initialize a with set()\n",
    "a = set()\n",
    "\n",
    "# check data type of a\n",
    "print(type(a))\n"
   ]
  },
  {
   "cell_type": "markdown",
   "metadata": {},
   "source": [
    "### Modifying a set in Python\n",
    "Sets are mutable. However, since they are unordered, indexing has no meaning.\n",
    "We cannot access or change an element of a set using indexing or slicing. Set data type does not support it.\n",
    "We can add a single element using the add() method, and multiple elements using the update() method. The update() method can take tuples, lists, strings or other sets as its argument. In all cases, duplicates are avoided.\n"
   ]
  },
  {
   "cell_type": "code",
   "execution_count": null,
   "metadata": {},
   "outputs": [
    {
     "name": "stdout",
     "output_type": "stream",
     "text": [
      "{1, 3}\n",
      "{1, 2, 3}\n",
      "{1, 2, 3, 4}\n",
      "{1, 2, 3, 4, 5, 6, 8}\n"
     ]
    }
   ],
   "source": [
    "# initialize my_set\n",
    "my_set = {1, 3}\n",
    "print(my_set)\n",
    "\n",
    "# if you uncomment line 9,\n",
    "# you will get an error\n",
    "# TypeError: 'set' object does not support indexing\n",
    "\n",
    "# my_set[0]\n",
    "\n",
    "# add an element\n",
    "# Output: {1, 2, 3}\n",
    "my_set.add(2)\n",
    "print(my_set)\n",
    "\n",
    "# add multiple elements\n",
    "# Output: {1, 2, 3, 4}\n",
    "my_set.update([2, 3, 4])\n",
    "print(my_set)\n",
    "\n",
    "# add list and set\n",
    "# Output: {1, 2, 3, 4, 5, 6, 8}\n",
    "my_set.update([4, 5], {1, 6, 8})\n",
    "print(my_set)\n"
   ]
  },
  {
   "attachments": {},
   "cell_type": "markdown",
   "metadata": {},
   "source": [
    "#### Removing elements from a set\n",
    "A particular item can be removed from a set using the methods discard() and remove().\n",
    "The only difference between the two is that the discard() function leaves a set unchanged if the element is not present in the set. On the other hand, the remove() function will raise an error in such a condition (if element is not present in the set).\n",
    "The following example will illustrate this.\n"
   ]
  },
  {
   "cell_type": "code",
   "execution_count": null,
   "metadata": {},
   "outputs": [
    {
     "name": "stdout",
     "output_type": "stream",
     "text": [
      "{1, 3, 4, 5, 6}\n",
      "{1, 3, 5, 6}\n",
      "{1, 3, 5}\n",
      "{1, 3, 5}\n"
     ]
    },
    {
     "ename": "KeyError",
     "evalue": "2",
     "output_type": "error",
     "traceback": [
      "\u001b[0;31m---------------------------------------------------------------------------\u001b[0m",
      "\u001b[0;31mKeyError\u001b[0m                                  Traceback (most recent call last)",
      "Cell \u001b[0;32mIn[37], line 28\u001b[0m\n\u001b[1;32m     21\u001b[0m \u001b[39mprint\u001b[39m(my_set)\n\u001b[1;32m     23\u001b[0m \u001b[39m# remove an element\u001b[39;00m\n\u001b[1;32m     24\u001b[0m \u001b[39m# not present in my_set\u001b[39;00m\n\u001b[1;32m     25\u001b[0m \u001b[39m# you will get an error.\u001b[39;00m\n\u001b[1;32m     26\u001b[0m \u001b[39m# Output: KeyError\u001b[39;00m\n\u001b[0;32m---> 28\u001b[0m my_set\u001b[39m.\u001b[39;49mremove(\u001b[39m2\u001b[39;49m)\n",
      "\u001b[0;31mKeyError\u001b[0m: 2"
     ]
    }
   ],
   "source": [
    "# Difference between discard() and remove()\n",
    "\n",
    "# initialize my_set\n",
    "my_set = {1, 3, 4, 5, 6}\n",
    "print(my_set)\n",
    "\n",
    "# discard an element\n",
    "# Output: {1, 3, 5, 6}\n",
    "my_set.discard(4)\n",
    "print(my_set)\n",
    "\n",
    "# remove an element\n",
    "# Output: {1, 3, 5}\n",
    "my_set.remove(6)\n",
    "print(my_set)\n",
    "\n",
    "# discard an element\n",
    "# not present in my_set\n",
    "# Output: {1, 3, 5}\n",
    "my_set.discard(2)\n",
    "print(my_set)\n",
    "\n",
    "# remove an element\n",
    "# not present in my_set\n",
    "# you will get an error.\n",
    "# Output: KeyError\n",
    "\n",
    "my_set.remove(2)\n"
   ]
  },
  {
   "cell_type": "markdown",
   "metadata": {},
   "source": [
    "Similarly, we can remove and return an item using the pop() method.\n",
    "Since set is an unordered data type, there is no way of determining which item will be popped. It is completely arbitrary.\n",
    "We can also remove all the items from a set using the clear() method\n"
   ]
  },
  {
   "cell_type": "code",
   "execution_count": null,
   "metadata": {},
   "outputs": [
    {
     "name": "stdout",
     "output_type": "stream",
     "text": [
      "{'e', 'r', 'l', 'o', 'd', 'H', 'W'}\n",
      "e\n",
      "{'l', 'o', 'd', 'H', 'W'}\n",
      "set()\n"
     ]
    }
   ],
   "source": [
    "# initialize my_set\n",
    "# Output: set of unique elements\n",
    "my_set = set(\"HelloWorld\")\n",
    "print(my_set)\n",
    "\n",
    "# pop an element\n",
    "# Output: random element\n",
    "print(my_set.pop())\n",
    "\n",
    "# pop another element\n",
    "my_set.pop()\n",
    "print(my_set)\n",
    "\n",
    "# clear my_set\n",
    "# Output: set()\n",
    "my_set.clear()\n",
    "print(my_set)"
   ]
  },
  {
   "attachments": {
    "image.png": {
     "image/png": "[encoded data removed]"
    }
   },
   "cell_type": "markdown",
   "metadata": {},
   "source": [
    "#### Python Set Operations\n",
    "Sets can be used to carry out mathematical set operations like union, intersection, difference and symmetric difference. We can do this with operators or methods.\n",
    "Let us consider the following two sets for the following operations.\n",
    "\n",
    "![image.png](attachment:image.png)\n"
   ]
  },
  {
   "attachments": {},
   "cell_type": "markdown",
   "metadata": {},
   "source": [
    "##### Set Union in Python\n",
    "Union of A and B is a set of all elements from both sets.\n",
    "Union is performed using | operator. Same can be accomplished using the union() method.\n"
   ]
  },
  {
   "cell_type": "code",
   "execution_count": null,
   "metadata": {},
   "outputs": [
    {
     "data": {
      "text/plain": [
       "{1, 2, 3, 4, 5, 6, 7, 8}"
      ]
     },
     "execution_count": 42,
     "metadata": {},
     "output_type": "execute_result"
    }
   ],
   "source": [
    "# Set union method\n",
    "# initialize A and B\n",
    "A = {1, 2, 3, 4, 5}\n",
    "B = {4, 5, 6, 7, 8}\n",
    "\n",
    "# Output: {1, 2, 3, 4, 5, 6, 7, 8}\n",
    "A.union(B)"
   ]
  },
  {
   "cell_type": "code",
   "execution_count": null,
   "metadata": {},
   "outputs": [],
   "source": [
    "B.union(A)"
   ]
  },
  {
   "attachments": {},
   "cell_type": "markdown",
   "metadata": {},
   "source": [
    "##### Set Intersection in Python\n",
    "Intersection of A and B is a set of elements that are common in both the sets.\n",
    "Intersection is performed using & operator. Same can be accomplished using the intersection() method.\n"
   ]
  },
  {
   "cell_type": "code",
   "execution_count": null,
   "metadata": {},
   "outputs": [],
   "source": [
    "# Intersection of sets\n",
    "# initialize A and B\n",
    "A = {1, 2, 3, 4, 5}\n",
    "B = {4, 5, 6, 7, 8}\n",
    "\n",
    "A.intersection(B)"
   ]
  },
  {
   "attachments": {},
   "cell_type": "markdown",
   "metadata": {},
   "source": [
    "##### Set Difference in Python\n",
    "Difference of the set B from set A(A - B) is a set of elements that are only in A but not in B. Similarly, B - A is a set of elements in B but not in A.\n",
    "Difference is performed using - operator. Same can be accomplished using the difference() method.\n"
   ]
  },
  {
   "cell_type": "code",
   "execution_count": null,
   "metadata": {},
   "outputs": [],
   "source": [
    "# Difference of two sets\n",
    "# initialize A and B\n",
    "A = {1, 2, 3, 4, 5}\n",
    "B = {4, 5, 6, 7, 8}\n",
    "\n",
    "A.difference(B)"
   ]
  },
  {
   "cell_type": "code",
   "execution_count": null,
   "metadata": {},
   "outputs": [],
   "source": [
    "B.difference(A)"
   ]
  },
  {
   "cell_type": "markdown",
   "metadata": {},
   "source": [
    "#### Set Symmetric Difference in Python\n",
    "Symmetric Difference of A and B is a set of elements in A and B but not in both (excluding the intersection).\n",
    "Symmetric difference is performed using ^ operator. Same can be accomplished using the method symmetric_difference().\n"
   ]
  },
  {
   "cell_type": "code",
   "execution_count": null,
   "metadata": {},
   "outputs": [],
   "source": [
    "# Symmetric difference of two sets\n",
    "# initialize A and B\n",
    "A = {1, 2, 3, 4, 5}\n",
    "B = {4, 5, 6, 7, 8}\n",
    "\n",
    "A.symmetric_difference(B)\n"
   ]
  },
  {
   "attachments": {},
   "cell_type": "markdown",
   "metadata": {},
   "source": [
    "##### Other Python Set Methods\n",
    "There are many set methods, some of which we have already used above. Here is a list of all the methods that are available with the set objects:\n",
    "Method\tDescription\n",
    "- add()\n",
    "Adds an element to the set\n",
    "\n",
    "- clear()\n",
    "Removes all elements from the set\n",
    "\n",
    "- copy()\n",
    "Returns a copy of the set\n",
    "\n",
    "- difference()\n",
    "Returns the difference of two or more sets as a new set\n",
    "\n",
    "- difference_update()\n",
    "Removes all elements of another set from this set\n",
    "\n",
    "- discard()\n",
    "Removes an element from the set if it is a member. (Do nothing if the element is not in set)\n",
    "\n",
    "- intersection()\n",
    "Returns the intersection of two sets as a new set\n",
    "\n",
    "- intersection_update()\n",
    "Updates the set with the intersection of itself and another\n",
    "\n",
    "- isdisjoint()\n",
    "Returns True if two sets have a null intersection\n",
    "\n",
    "- issubset()\n",
    "Returns True if another set contains this set\n",
    "\n",
    "- issuperset()\n",
    "Returns True if this set contains another set\n",
    "\n",
    "- pop()\n",
    "Removes and returns an arbitrary set element. Raises KeyError if the set is empty\n",
    "\n",
    "- remove()\n",
    "Removes an element from the set. If the element is not a member, raises a KeyError\n",
    "\n",
    "- symmetric_difference()\n",
    "Returns the symmetric difference of two sets as a new set\n",
    "\n",
    "- symmetric_difference_update()\n",
    "Updates a set with the symmetric difference of itself and another\n",
    "\n",
    "- union()\n",
    "Returns the union of sets in a new set\n",
    "\n",
    "- update()\n",
    "Updates the set with the union of itself and others\n"
   ]
  },
  {
   "attachments": {},
   "cell_type": "markdown",
   "metadata": {},
   "source": [
    "### Operators\n",
    "Operators are special symbols in Python that carry out arithmetic or logical computation. The value that the operator operates on is called the operand.\n",
    "For example:\n"
   ]
  },
  {
   "cell_type": "code",
   "execution_count": null,
   "metadata": {},
   "outputs": [
    {
     "data": {
      "text/plain": [
       "5"
      ]
     },
     "execution_count": 7,
     "metadata": {},
     "output_type": "execute_result"
    }
   ],
   "source": [
    "2+3"
   ]
  },
  {
   "attachments": {},
   "cell_type": "markdown",
   "metadata": {},
   "source": [
    "Here, + is the operator that performs addition. 2 and 3 are the operands and 5 is the output of the operation."
   ]
  },
  {
   "attachments": {},
   "cell_type": "markdown",
   "metadata": {},
   "source": [
    "#### Arithmetic operators\n",
    "Arithmetic operators are used to perform mathematical operations like addition, subtraction, multiplication, etc.\n",
    "\n",
    "|Operator|Meaning|Example|\n",
    "|:--|:--|:--|\n",
    "|+\t|Add two operands or unary plus\t|x + y+ 2|\n",
    "|-\t|Subtract right operand from the left or unary minus\t|x - y- 2|\n",
    "|*\t|Multiply two operands\t|x * y|\n",
    "|/\t|Divide left operand by the right one (always results into float)\t|x / y|\n",
    "|%\t|Modulus - remainder of the division of left operand by the right\t|x % y (remainder of x/y)|\n",
    "|//\t|Floor division - division that results into whole number adjusted to the left in the number line\t|x // y|\n",
    "|**\t|Exponent - left operand raised to the power of right\t|x ** y (x to the power y)|\n"
   ]
  },
  {
   "cell_type": "code",
   "execution_count": null,
   "metadata": {},
   "outputs": [
    {
     "name": "stdout",
     "output_type": "stream",
     "text": [
      "x + y = 19\n",
      "x - y = 11\n",
      "x * y = 60\n",
      "x / y = 3.75\n",
      "x % y = 3\n",
      "x // y = 3\n",
      "x ** y = 50625\n"
     ]
    }
   ],
   "source": [
    "x = 15\n",
    "y = 4\n",
    "\n",
    "# Output: x + y = 19\n",
    "print('x + y =',x+y)\n",
    "\n",
    "# Output: x - y = 11\n",
    "print('x - y =',x-y)\n",
    "\n",
    "# Output: x * y = 60\n",
    "print('x * y =',x*y)\n",
    "\n",
    "# Output: x / y = 3.75\n",
    "print('x / y =',x/y)\n",
    "\n",
    "# Output: x % y = 3\n",
    "print('x % y =',x%y)\n",
    "\n",
    "# Output: x // y = 3\n",
    "print('x // y =',x//y)\n",
    "\n",
    "# Output: x ** y = 50625\n",
    "print('x ** y =',x**y)\n"
   ]
  },
  {
   "attachments": {},
   "cell_type": "markdown",
   "metadata": {},
   "source": [
    "#### Comparison operators\n",
    "Comparison operators are used to compare values. It returns either True or False according to the condition.\n",
    "\n",
    "|Operator\t|Meaning\t|Example|\n",
    "|:--|:--|:--|\n",
    "|>\t|Greater than - True if left operand is greater than the right\t|x > y|\n",
    "|<\t|Less than - True if left operand is less than the right\t|x < y|\n",
    "|==\t|Equal to - True if both operands are equal\t|x == y|\n",
    "|!=\t|Not equal to - True if operands are not equal\t|x != y|\n",
    "|>=\t|Greater than or equal to - True if left operand is greater than or equal to the right\t|x >= y|\n",
    "|<=\t|Less than or equal to - True if left operand is less than or equal to the right\t|x <= y|\n"
   ]
  },
  {
   "cell_type": "code",
   "execution_count": null,
   "metadata": {},
   "outputs": [
    {
     "name": "stdout",
     "output_type": "stream",
     "text": [
      "x > y is False\n",
      "x < y is True\n",
      "x == y is False\n",
      "x != y is True\n",
      "x >= y is False\n",
      "x <= y is True\n"
     ]
    }
   ],
   "source": [
    "x = 10\n",
    "y = 12\n",
    "\n",
    "# Output: x > y is False\n",
    "print('x > y is',x>y)\n",
    "\n",
    "# Output: x < y is True\n",
    "print('x < y is',x<y)\n",
    "\n",
    "# Output: x == y is False\n",
    "print('x == y is',x==y)\n",
    "\n",
    "# Output: x != y is True\n",
    "print('x != y is',x!=y)\n",
    "\n",
    "# Output: x >= y is False\n",
    "print('x >= y is',x>=y)\n",
    "\n",
    "# Output: x <= y is True\n",
    "print('x <= y is',x<=y)\n"
   ]
  },
  {
   "attachments": {},
   "cell_type": "markdown",
   "metadata": {},
   "source": [
    "#### Logical operators\n",
    "Logical operators are the and, or, not operators.\n",
    "\n",
    "|Operator\t|Meaning\t|Example|\n",
    "|:--|:--|:--|\n",
    "|and\t|True if both the operands are true\t|x and y|\n",
    "|or\t|True if either of the operands is true\t|x or y|\n",
    "|not\t|True if operand is false (complements the operand)\t|not x|\n"
   ]
  },
  {
   "cell_type": "code",
   "execution_count": null,
   "metadata": {},
   "outputs": [],
   "source": [
    "x = True\n",
    "y = False\n",
    "\n",
    "print('x and y is',x and y)\n",
    "\n",
    "print('x or y is',x or y)\n",
    "\n",
    "print('not x is',not x)"
   ]
  },
  {
   "attachments": {},
   "cell_type": "markdown",
   "metadata": {},
   "source": [
    "Question: What will the output be?"
   ]
  },
  {
   "attachments": {},
   "cell_type": "markdown",
   "metadata": {},
   "source": [
    "#### Identity operators\n",
    "is and is not are the identity operators in Python. They are used to check if two values (or variables) are located on the same part of the memory. Two variables that are equal does not imply that they are identical."
   ]
  },
  {
   "attachments": {},
   "cell_type": "markdown",
   "metadata": {},
   "source": [
    "|Operator\t|Meaning\t|Example|\n",
    "|--|--|--|\n",
    "|is\t|True if the operands are identical (refer to the same object)\t|x is True|\n",
    "|is not\t|True if the operands are not identical (do not refer to the same object)\t|x is not True|\n"
   ]
  },
  {
   "cell_type": "code",
   "execution_count": null,
   "metadata": {},
   "outputs": [
    {
     "name": "stdout",
     "output_type": "stream",
     "text": [
      "False\n",
      "True\n",
      "False\n"
     ]
    }
   ],
   "source": [
    "x1 = 5\n",
    "y1 = 5\n",
    "x2 = 'Hello'\n",
    "y2 = 'Hello'\n",
    "x3 = [1,2,3]\n",
    "y3 = [1,2,3]\n",
    "\n",
    "# Output: False\n",
    "print(x1 is not y1)\n",
    "\n",
    "# Output: True\n",
    "print(x2 is y2)\n",
    "\n",
    "# Output: False\n",
    "print(x3 is y3)\n"
   ]
  },
  {
   "attachments": {},
   "cell_type": "markdown",
   "metadata": {},
   "source": [
    "Here, we see that x1 and y1 are integers of the same values, so they are equal as well as identical. Same is the case with x2 and y2 (strings).\n",
    "But x3 and y3 are lists. They are equal but not identical. It is because the interpreter locates them separately in memory although they are equal.\n"
   ]
  },
  {
   "attachments": {},
   "cell_type": "markdown",
   "metadata": {},
   "source": [
    "#### Membership operators\n",
    "in and not in are the membership operators in Python. They are used to test whether a value or variable is found in a sequence (string, list, tuple, set and dictionary).\n",
    "In a dictionary we can only test for presence of key, not the value.\n",
    "\n",
    "|Operator|Meaning\t|Example|\n",
    "|--|--|--|\n",
    "|in\t|True if value/variable is found in the sequence\t|5 in x|\n",
    "|not in\t|True if value/variable is not found in the sequence\t|5 not in x|\n"
   ]
  },
  {
   "cell_type": "code",
   "execution_count": null,
   "metadata": {},
   "outputs": [
    {
     "name": "stdout",
     "output_type": "stream",
     "text": [
      "True\n",
      "True\n",
      "True\n",
      "False\n"
     ]
    }
   ],
   "source": [
    "x = 'Hello world'\n",
    "y = {1:'a',2:'b'}\n",
    "\n",
    "# Output: True\n",
    "print('H' in x)\n",
    "\n",
    "# Output: True\n",
    "print('hello' not in x)\n",
    "\n",
    "# Output: True\n",
    "print(1 in y)\n",
    "\n",
    "# Output: False\n",
    "print('a' in y)\n"
   ]
  },
  {
   "cell_type": "markdown",
   "metadata": {},
   "source": [
    "Here, 'H' is in x but 'hello' is not present in x (remember, Python is case sensitive). Similarly, 1 is key and 'a' is the value in dictionary y. Hence, 'a' in y returns False.\n",
    " \n"
   ]
  },
  {
   "attachments": {},
   "cell_type": "markdown",
   "metadata": {},
   "source": [
    "## Functions"
   ]
  },
  {
   "attachments": {
    "image.png": {
     "image/png": "[encoded data removed]"
    }
   },
   "cell_type": "markdown",
   "metadata": {},
   "source": [
    "What is a function in Python?\n",
    "In Python, a function is a group of related statements that performs a specific task.\n",
    "Functions help break our program into smaller and modular chunks. As our program grows larger and larger, functions make it more organized and manageable.\n",
    "Furthermore, it avoids repetition and makes the code reusable.\n",
    "\n",
    "![image.png](attachment:image.png)"
   ]
  },
  {
   "cell_type": "code",
   "execution_count": null,
   "metadata": {},
   "outputs": [],
   "source": [
    "def function_name(parameters):\n",
    "\tstatement(s)\n"
   ]
  },
  {
   "attachments": {},
   "cell_type": "markdown",
   "metadata": {},
   "source": [
    "Above shown is a function definition that consists of the following components.\n",
    "1.\tKeyword `def` that marks the start of the function header.\n",
    "2.\tA function name to uniquely identify the function. Function naming follows the same rules of writing variables in Python.\n",
    "3.\tParameters (arguments) through which we pass values to a function. They are optional.\n",
    "4.\tA colon (:) to mark the end of the function header.\n",
    "5.\tOne or more valid python statements that make up the function body. Statements must have the same indentation level (usually 4 spaces).\n",
    "7.\tAn optional return statement to return a value from the function.\n"
   ]
  },
  {
   "cell_type": "code",
   "execution_count": null,
   "metadata": {},
   "outputs": [
    {
     "name": "stdout",
     "output_type": "stream",
     "text": [
      "Hello. Good morning!\n"
     ]
    }
   ],
   "source": [
    "#Example\n",
    "def greet():\n",
    "    print(\"Hello. Good morning!\")\n",
    "\n",
    "greet()\n"
   ]
  },
  {
   "attachments": {},
   "cell_type": "markdown",
   "metadata": {},
   "source": [
    "#### Python Function Arguments\n",
    "In Python, you can define a function that takes variable number of arguments. In this article, you will learn to define such functions using default, keyword and arbitrary arguments.\n",
    "Arguments\n",
    "In the user-defined function topic, we learned about defining a function and calling it. Otherwise, the function call will result in an error. Here is an example.\n"
   ]
  },
  {
   "cell_type": "code",
   "execution_count": null,
   "metadata": {},
   "outputs": [
    {
     "name": "stdout",
     "output_type": "stream",
     "text": [
      "Hello, Paul. Good morning!\n"
     ]
    }
   ],
   "source": [
    "#Example with arguments\n",
    "def greet(name):\n",
    "    print(\"Hello, \" + name + \". Good morning!\")\n",
    "\n",
    "greet('Paul')"
   ]
  },
  {
   "cell_type": "code",
   "execution_count": null,
   "metadata": {},
   "outputs": [
    {
     "name": "stdout",
     "output_type": "stream",
     "text": [
      "Hello Monica, Good morning!\n"
     ]
    }
   ],
   "source": [
    "def greet(name, msg):\n",
    "    print(\"Hello\", name + ', ' + msg)\n",
    "\n",
    "greet(\"Monica\", \"Good morning!\")"
   ]
  },
  {
   "cell_type": "code",
   "execution_count": null,
   "metadata": {},
   "outputs": [
    {
     "ename": "TypeError",
     "evalue": "greet() missing 1 required positional argument: 'msg'",
     "output_type": "error",
     "traceback": [
      "\u001b[0;31m---------------------------------------------------------------------------\u001b[0m",
      "\u001b[0;31mTypeError\u001b[0m                                 Traceback (most recent call last)",
      "Cell \u001b[0;32mIn[67], line 1\u001b[0m\n\u001b[0;32m----> 1\u001b[0m greet(\u001b[39m\"\u001b[39;49m\u001b[39mMonica\u001b[39;49m\u001b[39m\"\u001b[39;49m)    \u001b[39m# only one argument\u001b[39;00m\n",
      "\u001b[0;31mTypeError\u001b[0m: greet() missing 1 required positional argument: 'msg'"
     ]
    }
   ],
   "source": [
    "greet(\"Monica\")    # only one argument"
   ]
  },
  {
   "cell_type": "code",
   "execution_count": null,
   "metadata": {},
   "outputs": [
    {
     "ename": "TypeError",
     "evalue": "greet() missing 2 required positional arguments: 'name' and 'msg'",
     "output_type": "error",
     "traceback": [
      "\u001b[0;31m---------------------------------------------------------------------------\u001b[0m",
      "\u001b[0;31mTypeError\u001b[0m                                 Traceback (most recent call last)",
      "Cell \u001b[0;32mIn[68], line 1\u001b[0m\n\u001b[0;32m----> 1\u001b[0m greet()\n",
      "\u001b[0;31mTypeError\u001b[0m: greet() missing 2 required positional arguments: 'name' and 'msg'"
     ]
    }
   ],
   "source": [
    "greet() # no arguments"
   ]
  },
  {
   "attachments": {},
   "cell_type": "markdown",
   "metadata": {},
   "source": [
    "#### Python Default Arguments\n",
    "Function arguments can have default values in Python.\n",
    "We can provide a default value to an argument by using the assignment operator (=). Here is an example.\n"
   ]
  },
  {
   "cell_type": "code",
   "execution_count": null,
   "metadata": {},
   "outputs": [
    {
     "name": "stdout",
     "output_type": "stream",
     "text": [
      "Hello Kate, Good morning!\n",
      "Hello Bruce, How do you do?\n",
      "Hello Kate, Good morning!\n"
     ]
    }
   ],
   "source": [
    "def greet(name=\"Kate\", msg=\"Good morning!\"):\n",
    "    print(\"Hello\", name + ', ' + msg)\n",
    "\n",
    "\n",
    "greet(\"Kate\")\n",
    "greet(\"Bruce\", \"How do you do?\")\n",
    "greet()"
   ]
  },
  {
   "attachments": {},
   "cell_type": "markdown",
   "metadata": {},
   "source": [
    "#### The return statement\n",
    "The return statement is used to exit a function and go back to the place from where it was called.\n"
   ]
  },
  {
   "cell_type": "code",
   "execution_count": null,
   "metadata": {},
   "outputs": [],
   "source": [
    "return [expression_list]"
   ]
  },
  {
   "cell_type": "markdown",
   "metadata": {},
   "source": [
    "This statement can contain an expression that gets evaluated and the value is returned. If there is no expression in the statement or the return statement itself is not present inside a function, then the function will return the None object."
   ]
  },
  {
   "cell_type": "code",
   "execution_count": null,
   "metadata": {},
   "outputs": [
    {
     "name": "stdout",
     "output_type": "stream",
     "text": [
      "2\n",
      "4\n"
     ]
    }
   ],
   "source": [
    "def absolute_value(num):\n",
    "    if num >= 0:\n",
    "        return num\n",
    "    else:\n",
    "        return -num\n",
    "\n",
    "\n",
    "x = absolute_value(2)\n",
    "print(x)\n",
    "y = absolute_value(-4)\n",
    "print(y)"
   ]
  },
  {
   "attachments": {},
   "cell_type": "markdown",
   "metadata": {},
   "source": [
    "#### Python Arbitrary Arguments\n",
    "Sometimes, we do not know in advance the number of arguments that will be passed into a function. Python allows us to handle this kind of situation through function calls with an arbitrary number of arguments.\n",
    "In the function definition, we use an asterisk (*) before the parameter name to denote this kind of argument. Here is an example.\n"
   ]
  },
  {
   "cell_type": "code",
   "execution_count": null,
   "metadata": {},
   "outputs": [
    {
     "name": "stdout",
     "output_type": "stream",
     "text": [
      "Hello Monica\n",
      "Hello Luke\n",
      "Hello Steve\n",
      "Hello John\n",
      "Hello Johnny\n"
     ]
    }
   ],
   "source": [
    "def greet(*names):\n",
    "    \"\"\"This function greets all\n",
    "    the person in the names tuple.\"\"\"\n",
    "\n",
    "    # names is a tuple with arguments\n",
    "    for name in names:\n",
    "        print(\"Hello\", name)\n",
    "\n",
    "\n",
    "greet(\"Monica\", \"Luke\", \"Steve\", \"John\",\"Johnny\")\n"
   ]
  },
  {
   "cell_type": "markdown",
   "metadata": {},
   "source": [
    "Here, we have called the function with multiple arguments. These arguments get wrapped up into a tuple before being passed into the function. Inside the function, we use a for loop to retrieve all the arguments back."
   ]
  },
  {
   "attachments": {},
   "cell_type": "markdown",
   "metadata": {},
   "source": [
    "### Function Exercises"
   ]
  },
  {
   "attachments": {},
   "cell_type": "markdown",
   "metadata": {},
   "source": [
    "#### Exercise 1\n",
    "LESSER OF TWO EVENS: Write a function that returns the lesser of two given numbers if both numbers are even, but returns the greater if one or both numbers are odd\n",
    "\n",
    "    lesser_of_two_evens(2,4) --> 2 \n",
    "    lesser_of_two_evens(2,5) --> 5\n"
   ]
  },
  {
   "cell_type": "code",
   "execution_count": null,
   "metadata": {},
   "outputs": [],
   "source": [
    "def lesser_of_two_evens(a,b):\n",
    "    pass"
   ]
  },
  {
   "cell_type": "code",
   "execution_count": null,
   "metadata": {},
   "outputs": [],
   "source": [
    "# Check\n",
    "lesser_of_two_evens(2,4)"
   ]
  },
  {
   "cell_type": "code",
   "execution_count": null,
   "metadata": {},
   "outputs": [],
   "source": [
    "# Check\n",
    "lesser_of_two_evens(2,5)"
   ]
  },
  {
   "attachments": {},
   "cell_type": "markdown",
   "metadata": {},
   "source": [
    "#### Exercise 2\n",
    "\n",
    "ANIMAL CRACKERS: Write a function takes a two-word string and returns True if both words begin with same letter\n",
    "\n",
    "    animal_crackers('Levelheaded Llama') --> True\n",
    "    animal_crackers('Crazy Kangaroo') --> False\n"
   ]
  },
  {
   "cell_type": "code",
   "execution_count": null,
   "metadata": {},
   "outputs": [],
   "source": [
    "def animal_crackers(text):\n",
    "    pass"
   ]
  },
  {
   "cell_type": "code",
   "execution_count": null,
   "metadata": {},
   "outputs": [],
   "source": [
    "# Check\n",
    "animal_crackers('Levelheaded Llama')"
   ]
  },
  {
   "cell_type": "code",
   "execution_count": null,
   "metadata": {},
   "outputs": [],
   "source": [
    "# Check\n",
    "animal_crackers('Crazy Kangaroo')"
   ]
  },
  {
   "attachments": {},
   "cell_type": "markdown",
   "metadata": {},
   "source": [
    "#### Exercise 3\n",
    "\n",
    "OLD MACDONALD: Write a function that capitalizes the first and fourth letters of a name\n",
    "\n",
    "    old_macdonald('macdonald') --> MacDonald\n",
    "\n",
    "Note: 'macdonald'.capitalize() returns 'Macdonald'"
   ]
  },
  {
   "cell_type": "code",
   "execution_count": null,
   "metadata": {},
   "outputs": [],
   "source": [
    "def old_macdonald(name):\n",
    "    pass"
   ]
  },
  {
   "cell_type": "code",
   "execution_count": null,
   "metadata": {},
   "outputs": [],
   "source": [
    "# Check\n",
    "old_macdonald('macdonald')"
   ]
  },
  {
   "attachments": {},
   "cell_type": "markdown",
   "metadata": {},
   "source": [
    "#### Exercise 4\n",
    "\n",
    "FIND 33:\n",
    "Given a list of ints, return True if the array contains a 3 next to a 3 somewhere.\n",
    "\n",
    "    has_33([1, 3, 3]) → True\n",
    "    has_33([1, 3, 1, 3]) → False\n",
    "    has_33([3, 1, 3]) → False"
   ]
  },
  {
   "cell_type": "code",
   "execution_count": null,
   "metadata": {},
   "outputs": [],
   "source": [
    "def has_33(nums):\n",
    "    pass"
   ]
  },
  {
   "cell_type": "code",
   "execution_count": null,
   "metadata": {},
   "outputs": [],
   "source": [
    "# Check\n",
    "has_33([1, 3, 3])"
   ]
  },
  {
   "cell_type": "code",
   "execution_count": null,
   "metadata": {},
   "outputs": [],
   "source": [
    "# Check\n",
    "has_33([1, 3, 1, 3])"
   ]
  },
  {
   "cell_type": "code",
   "execution_count": null,
   "metadata": {},
   "outputs": [],
   "source": [
    "# Check\n",
    "has_33([3, 1, 3])"
   ]
  },
  {
   "cell_type": "markdown",
   "metadata": {},
   "source": []
  },
  {
   "attachments": {},
   "cell_type": "markdown",
   "metadata": {},
   "source": [
    "#### Exercise 5\n",
    "\n",
    "BLACKJACK: Given three integers between 1 and 11, if their sum is less than or equal to 21, return their sum. If their sum exceeds 21 and there's an eleven, reduce the total sum by 10. Finally, if the sum (even after adjustment) exceeds 21, return 'BUST'\n",
    "\n",
    "    blackjack(5,6,7) --> 18\n",
    "    blackjack(9,9,9) --> 'BUST'\n",
    "    blackjack(9,9,11) --> 19"
   ]
  },
  {
   "cell_type": "code",
   "execution_count": null,
   "metadata": {},
   "outputs": [],
   "source": [
    "def blackjack(a,b,c):\n",
    "    pass"
   ]
  },
  {
   "cell_type": "code",
   "execution_count": null,
   "metadata": {},
   "outputs": [],
   "source": [
    "# Check\n",
    "blackjack(5,6,7)"
   ]
  },
  {
   "cell_type": "code",
   "execution_count": null,
   "metadata": {},
   "outputs": [],
   "source": [
    "# Check\n",
    "blackjack(9,9,9)"
   ]
  },
  {
   "cell_type": "code",
   "execution_count": null,
   "metadata": {},
   "outputs": [],
   "source": [
    "# Check\n",
    "blackjack(9,9,11)"
   ]
  },
  {
   "attachments": {},
   "cell_type": "markdown",
   "metadata": {},
   "source": [
    "## Classes - Object-oriented Programming (OOP)"
   ]
  },
  {
   "attachments": {
    "image.png": {
     "image/png": "[encoded data removed]"
    }
   },
   "cell_type": "markdown",
   "metadata": {},
   "source": [
    "#### What is Object-Oriented Programming in Python?\n",
    "\n",
    "Object-Oriented Programming (OOP) is a programming paradigm in which we can think about complex problems as objects.\n",
    "\n",
    "A paradigm is a theory that supplies the base for solving problems.\n",
    "\n",
    "So when we’re talking about OOP, we’re referring to a set of concepts and patterns we use to solve problems with objects.\n",
    "\n",
    "An object in Python is a single collection of data (attributes) and behavior (methods). You can think of objects as real things around you. For example, consider calculators:\n",
    "\n",
    "![image.png](attachment:image.png)\n",
    "\n",
    "#### Why do we use Object-Oriented Programming?\n",
    "\n",
    "OOP allows you to create secure and reliable software\n",
    "\n",
    "##### Advantages of Python OOP\n",
    "- Faster coding: Coding faster doesn’t mean writing fewer lines of code. It means you can implement more features in less time without compromising the stability of a project. It allows you to reuse code\n",
    "\n",
    "- Avoids Spaghetti Code: It gives structure to your code by compressing all logic in objects"
   ]
  },
  {
   "attachments": {},
   "cell_type": "markdown",
   "metadata": {},
   "source": [
    "Let's consider an example for an application with many users such as Linkedin:"
   ]
  },
  {
   "cell_type": "code",
   "execution_count": null,
   "metadata": {},
   "outputs": [],
   "source": [
    "email = \"chi@gmail.com\"\n",
    "name = \"chi\"\n",
    "password = \"pwd\"\n",
    "current_job_title = \"data scientist\"\n",
    "\n",
    "def change_password():\n",
    "    pass\n",
    "    # do something\n",
    "\n",
    "def change_job_title():\n",
    "    pass\n",
    "    # do something"
   ]
  },
  {
   "attachments": {},
   "cell_type": "markdown",
   "metadata": {},
   "source": [
    "### Class\n",
    "A class is like a template. It allows you to create custom objects based on the attributes and methods you define.\n"
   ]
  },
  {
   "attachments": {},
   "cell_type": "markdown",
   "metadata": {},
   "source": [
    "<img src=\"images/classes_object.png\"/>\n"
   ]
  },
  {
   "cell_type": "code",
   "execution_count": null,
   "metadata": {},
   "outputs": [],
   "source": [
    "class User:\n",
    "\n",
    "    # __init__ is the object constructor \n",
    "    # self is a reference to the current instance of the class\n",
    "    def __init__(self, email, name, password, current_job_title): \n",
    "        self.email = email\n",
    "        self.name = name\n",
    "        self.password = password\n",
    "        self.current_job_title = current_job_title\n",
    "\n",
    "    def change_password(self, new_password):\n",
    "        self.password = new_password\n",
    "\n",
    "    def change_job_title(self, new_job_title):\n",
    "        self.current_job_title = new_job_title\n",
    "\n",
    "    def get_user_info(self):\n",
    "        print(f\"User {self.name} currently works as a {self.current_job_title}. You can contact them at {self.email}\")\n"
   ]
  },
  {
   "attachments": {},
   "cell_type": "markdown",
   "metadata": {},
   "source": [
    "#### The constructor\n",
    "\n",
    "The `__init__()` method is also named “constructor.” It’s called Python each time we instantiate an object.\n",
    "\n",
    "The constructor creates the object’s initial state with the minimum set of parameters it needs to exist.\n",
    "\n",
    "`self` refers to the instance of the class (the object itself)"
   ]
  },
  {
   "cell_type": "code",
   "execution_count": null,
   "metadata": {},
   "outputs": [
    {
     "name": "stdout",
     "output_type": "stream",
     "text": [
      "User chi currently works as a data scientist. You can contact them at chi@gmail.com\n",
      "User chi currently works as a data scientist trainer. You can contact them at chi@gmail.com\n"
     ]
    }
   ],
   "source": [
    "# Create an object\n",
    "\n",
    "user_one = User(\"chi@gmail.com\", \"chi\", \"pwd\", \"data scientist\")\n",
    "\n",
    "#Call functions that belong to an object is called methods\n",
    "user_one.get_user_info()\n",
    "\n",
    "#Change job title\n",
    "user_one.change_job_title(\"data scientist trainer\")\n",
    "user_one.get_user_info()\n",
    "\n"
   ]
  },
  {
   "cell_type": "code",
   "execution_count": null,
   "metadata": {},
   "outputs": [
    {
     "name": "stdout",
     "output_type": "stream",
     "text": [
      "User john currently works as a data engineer. You can contact them at john@gmail.com\n"
     ]
    }
   ],
   "source": [
    "user_two = User(\"john@gmail.com\", \"john\", \"secret\", \"data engineer\")\n",
    "user_two.get_user_info()"
   ]
  },
  {
   "attachments": {},
   "cell_type": "markdown",
   "metadata": {},
   "source": [
    "#### Exercise 6\n",
    "\n",
    "Create a Dog class with attributes: `name` and `age` and two methods:\n",
    "1. `.description()` returns a string displaying the name and age of the dog.\n",
    "2. `.speak()` has one parameter called `sound` and returns a string containing the dog’s name and the sound the dog makes.\n",
    "\n",
    "    ```\n",
    "    pluto = Dog(\"Pluto\", 3)\n",
    "    pluto.name --> 'Pluto'\n",
    "    pluto.age --> 3\n",
    "    pluto.description() --> 'Pluto is 3 years old'\n",
    "    pluto.speak(\"Woof Woof\") --> 'Pluto says Woof Woof'\n",
    "    ```\n"
   ]
  },
  {
   "cell_type": "code",
   "execution_count": null,
   "metadata": {},
   "outputs": [],
   "source": [
    "class Dog:\n",
    "\n",
    "    def __init__():\n",
    "        pass\n",
    "\n",
    "    def description():\n",
    "        pass\n",
    "\n",
    "    def speak():\n",
    "        pass"
   ]
  },
  {
   "cell_type": "code",
   "execution_count": null,
   "metadata": {},
   "outputs": [],
   "source": [
    "#Check\n",
    "pluto = Dog(\"Pluto\", 3)"
   ]
  },
  {
   "cell_type": "code",
   "execution_count": null,
   "metadata": {},
   "outputs": [],
   "source": [
    "#Check\n",
    "pluto.name"
   ]
  },
  {
   "cell_type": "code",
   "execution_count": null,
   "metadata": {},
   "outputs": [],
   "source": [
    "#Check\n",
    "pluto.age"
   ]
  },
  {
   "cell_type": "code",
   "execution_count": null,
   "metadata": {},
   "outputs": [],
   "source": [
    "#Check\n",
    "pluto.description()"
   ]
  },
  {
   "cell_type": "code",
   "execution_count": null,
   "metadata": {},
   "outputs": [],
   "source": [
    "#Check\n",
    "pluto.speak(\"Woof Woof\")"
   ]
  },
  {
   "attachments": {},
   "cell_type": "markdown",
   "metadata": {},
   "source": [
    "#### Class Inheritance \n",
    "\n",
    "Inheritance is the process by which one class takes on the attributes and methods of another. Newly formed classes are called child classes, and the classes that child classes are derived from are called parent classes. \n",
    "\n",
    "Child classes can override or extend the attributes and methods of parent classes. In other words, child classes inherit all of the parent’s attributes and methods but can also specify attributes and methods that are unique to themselves.\n",
    "\n",
    "For example: There are different dog breed e.g. JackRussel, Bulldog. Each breed of dog has slightly different behaviors. For example, bulldogs have a low bark that sounds like woof, JackRussel have a higher-pitched bark that sounds more like arf."
   ]
  },
  {
   "cell_type": "code",
   "execution_count": null,
   "metadata": {},
   "outputs": [],
   "source": [
    "class Dog:\n",
    "    def __init__(self, name, age):\n",
    "        self.name = name\n",
    "        self.age = age\n",
    "\n",
    "    def description(self):\n",
    "        return f\"{self.name} is {self.age} years old\"\n",
    "\n",
    "    def speak(self, sound):\n",
    "        return f\"{self.name} says {sound}\""
   ]
  },
  {
   "cell_type": "code",
   "execution_count": null,
   "metadata": {},
   "outputs": [],
   "source": [
    "class JackRussellTerrier(Dog):\n",
    "    def speak(self, sound=\"Arf\"):\n",
    "        return f\"{self.name} says {sound}\"\n",
    "\n",
    "class Bulldog(Dog):\n",
    "    def speak(self, sound=\"Woof\"):\n",
    "        return f\"{self.name} says {sound}\""
   ]
  },
  {
   "cell_type": "code",
   "execution_count": null,
   "metadata": {},
   "outputs": [
    {
     "data": {
      "text/plain": [
       "('Jack is 5 years old', 'Jack says Arf')"
      ]
     },
     "execution_count": 37,
     "metadata": {},
     "output_type": "execute_result"
    }
   ],
   "source": [
    "jack = JackRussellTerrier(\"Jack\", 5)\n",
    "jack.description(), jack.speak()\n"
   ]
  },
  {
   "cell_type": "code",
   "execution_count": null,
   "metadata": {},
   "outputs": [
    {
     "data": {
      "text/plain": [
       "('Bull is 3 years old', 'Bull says Woof')"
      ]
     },
     "execution_count": 38,
     "metadata": {},
     "output_type": "execute_result"
    }
   ],
   "source": [
    "bull = Bulldog(\"Bull\", 3)\n",
    "bull.description(), bull.speak()"
   ]
  },
  {
   "attachments": {},
   "cell_type": "markdown",
   "metadata": {},
   "source": [
    "#### Pandas\n",
    "\n",
    "**What is Pandas?**\n",
    "\n",
    "Pandas is an open source data analysis and manipulation tool, built on top the Python programming language.\n",
    "\n",
    "**Why do we need it?**\n",
    "\n",
    "By using Pandas we are able quickly to get insight into datasets which is necessary to built for example applications or continue researching a certain topic.\n",
    "\n",
    "Pandas has two types of data structures. One is called a Series and DataFrames. A Series is a 1-dimensional table, essentially a column. A DataFrame is a multi-dimensional table made up of a collection of Series. For simplicity we will only cover 2-dimensional DataFrames in this lecture."
   ]
  },
  {
   "attachments": {},
   "cell_type": "markdown",
   "metadata": {},
   "source": [
    "First we start by creating the two pandas datastructures mentioned above from different data sources. These sources can be lists that you made yourself or filetypes that you've downloaded from the internet, such as JSON's or CSV's."
   ]
  },
  {
   "cell_type": "code",
   "execution_count": 2,
   "metadata": {},
   "outputs": [
    {
     "name": "stdout",
     "output_type": "stream",
     "text": [
      "0    a\n",
      "1    b\n",
      "2    c\n",
      "dtype: object\n"
     ]
    }
   ],
   "source": [
    "import pandas as pd         #conventional to use pd as an abbreviation for pandas\n",
    "\n",
    "#create a series from a list\n",
    "example_list_1 = ['a', 'b', 'c']\n",
    "example_series_from_list = pd.Series(example_list_1)\n",
    "print(example_series_from_list)"
   ]
  },
  {
   "cell_type": "code",
   "execution_count": null,
   "metadata": {},
   "outputs": [
    {
     "name": "stdout",
     "output_type": "stream",
     "text": [
      "   0  1  2  3\n",
      "0  1  2  3  4\n",
      "1  5  6  7  8\n"
     ]
    }
   ],
   "source": [
    "#create a df from a list\n",
    "example_list = [[1, 2, 3, 4], [5, 6, 7, 8]]\n",
    "example_df_from_list = pd.DataFrame(test_list)\n",
    "print(example_df_from_list)"
   ]
  },
  {
   "cell_type": "code",
   "execution_count": null,
   "metadata": {},
   "outputs": [
    {
     "name": "stdout",
     "output_type": "stream",
     "text": [
      "         Cars        Airplanes\n",
      "0      Toyota           Airbus\n",
      "1  Volkswagen           Boeing\n",
      "2         BMW  Lockheed Martin\n"
     ]
    }
   ],
   "source": [
    "#create a df from a dictionary\n",
    "example_dict = {'Cars': ['Toyota', 'Volkswagen', 'BMW'], 'Airplanes': ['Airbus', 'Boeing', 'Lockheed Martin']}\n",
    "example_df_from_dict = pd.DataFrame(example_dict)\n",
    "print(example_df_from_dict)"
   ]
  },
  {
   "cell_type": "code",
   "execution_count": null,
   "metadata": {},
   "outputs": [
    {
     "name": "stdout",
     "output_type": "stream",
     "text": [
      "    Name       \"Sex\"   \"Age\"   \"Height (in)\"   \"Weight (lbs)\"\n",
      "0   Alex         \"M\"      41              74              170\n",
      "1   Bert         \"M\"      42              68              166\n",
      "2   Carl         \"M\"      32              70              155\n",
      "3   Dave         \"M\"      39              72              167\n",
      "4   Elly         \"F\"      30              66              124\n",
      "5   Fran         \"F\"      33              66              115\n",
      "6   Gwen         \"F\"      26              64              121\n",
      "7   Hank         \"M\"      30              71              158\n",
      "8   Ivan         \"M\"      53              72              175\n",
      "9   Jake         \"M\"      32              69              143\n",
      "10  Kate         \"F\"      47              69              139\n",
      "11  Luke         \"M\"      34              72              163\n",
      "12  Myra         \"F\"      23              62               98\n",
      "13  Neil         \"M\"      36              75              160\n",
      "14  Omar         \"M\"      38              70              145\n",
      "15  Page         \"F\"      31              67              135\n",
      "16  Quin         \"M\"      29              71              176\n",
      "17  Ruth         \"F\"      28              65              131\n"
     ]
    }
   ],
   "source": [
    "#create a df from a csv file\n",
    "df_from_read = pd.read_csv('csv_data/biostats.csv')\n",
    "print(df_from_read)"
   ]
  },
  {
   "attachments": {},
   "cell_type": "markdown",
   "metadata": {},
   "source": [
    "#### Viewing data in Pandas\n",
    "Now that we are familiar with creating pandas data structures we move on to larger data sets. For these larger data sets it is often handy to understand how to view the data of a certain row or column or even just to get a basic understanding of what the data is that we are dealing with."
   ]
  },
  {
   "cell_type": "code",
   "execution_count": null,
   "metadata": {},
   "outputs": [
    {
     "data": {
      "text/html": [
       "<div>\n",
       "<style scoped>\n",
       "    .dataframe tbody tr th:only-of-type {\n",
       "        vertical-align: middle;\n",
       "    }\n",
       "\n",
       "    .dataframe tbody tr th {\n",
       "        vertical-align: top;\n",
       "    }\n",
       "\n",
       "    .dataframe thead th {\n",
       "        text-align: right;\n",
       "    }\n",
       "</style>\n",
       "<table border=\"1\" class=\"dataframe\">\n",
       "  <thead>\n",
       "    <tr style=\"text-align: right;\">\n",
       "      <th></th>\n",
       "      <th>Index</th>\n",
       "      <th>Organization Id</th>\n",
       "      <th>Name</th>\n",
       "      <th>Website</th>\n",
       "      <th>Country</th>\n",
       "      <th>Description</th>\n",
       "      <th>Founded</th>\n",
       "      <th>Industry</th>\n",
       "      <th>Number of employees</th>\n",
       "    </tr>\n",
       "  </thead>\n",
       "  <tbody>\n",
       "    <tr>\n",
       "      <th>0</th>\n",
       "      <td>1</td>\n",
       "      <td>E84A904909dF528</td>\n",
       "      <td>Liu-Hoover</td>\n",
       "      <td>http://www.day-hartman.org/</td>\n",
       "      <td>Western Sahara</td>\n",
       "      <td>Ergonomic zero administration knowledge user</td>\n",
       "      <td>1980</td>\n",
       "      <td>Online Publishing</td>\n",
       "      <td>6852</td>\n",
       "    </tr>\n",
       "    <tr>\n",
       "      <th>1</th>\n",
       "      <td>2</td>\n",
       "      <td>AAC4f9aBF86EAeF</td>\n",
       "      <td>Orr-Armstrong</td>\n",
       "      <td>https://www.chapman.net/</td>\n",
       "      <td>Algeria</td>\n",
       "      <td>Ergonomic radical budgetary management</td>\n",
       "      <td>1970</td>\n",
       "      <td>Import / Export</td>\n",
       "      <td>7994</td>\n",
       "    </tr>\n",
       "    <tr>\n",
       "      <th>2</th>\n",
       "      <td>3</td>\n",
       "      <td>ad2eb3C8C24DB87</td>\n",
       "      <td>Gill-Lamb</td>\n",
       "      <td>http://lin.com/</td>\n",
       "      <td>Cote d'Ivoire</td>\n",
       "      <td>Programmable intermediate conglomeration</td>\n",
       "      <td>2005</td>\n",
       "      <td>Apparel / Fashion</td>\n",
       "      <td>5105</td>\n",
       "    </tr>\n",
       "    <tr>\n",
       "      <th>3</th>\n",
       "      <td>4</td>\n",
       "      <td>D76BB12E5eE165B</td>\n",
       "      <td>Bauer-Weiss</td>\n",
       "      <td>https://gillespie-stout.com/</td>\n",
       "      <td>United States of America</td>\n",
       "      <td>Synergistic maximized definition</td>\n",
       "      <td>2015</td>\n",
       "      <td>Dairy</td>\n",
       "      <td>9069</td>\n",
       "    </tr>\n",
       "    <tr>\n",
       "      <th>4</th>\n",
       "      <td>5</td>\n",
       "      <td>2F31EddF2Db9aAE</td>\n",
       "      <td>Love-Palmer</td>\n",
       "      <td>https://kramer.com/</td>\n",
       "      <td>Denmark</td>\n",
       "      <td>Optimized optimizing moderator</td>\n",
       "      <td>2010</td>\n",
       "      <td>Management Consulting</td>\n",
       "      <td>6991</td>\n",
       "    </tr>\n",
       "    <tr>\n",
       "      <th>...</th>\n",
       "      <td>...</td>\n",
       "      <td>...</td>\n",
       "      <td>...</td>\n",
       "      <td>...</td>\n",
       "      <td>...</td>\n",
       "      <td>...</td>\n",
       "      <td>...</td>\n",
       "      <td>...</td>\n",
       "      <td>...</td>\n",
       "    </tr>\n",
       "    <tr>\n",
       "      <th>995</th>\n",
       "      <td>996</td>\n",
       "      <td>e5CEc38aa9A580b</td>\n",
       "      <td>Bullock Group</td>\n",
       "      <td>https://medina-bernard.com/</td>\n",
       "      <td>Turkmenistan</td>\n",
       "      <td>Public-key scalable conglomeration</td>\n",
       "      <td>1998</td>\n",
       "      <td>Wine / Spirits</td>\n",
       "      <td>6547</td>\n",
       "    </tr>\n",
       "    <tr>\n",
       "      <th>996</th>\n",
       "      <td>997</td>\n",
       "      <td>cEF9B4675E4bBd0</td>\n",
       "      <td>Mason Inc</td>\n",
       "      <td>https://franco-walls.com/</td>\n",
       "      <td>United States of America</td>\n",
       "      <td>Distributed exuding initiative</td>\n",
       "      <td>2015</td>\n",
       "      <td>Law Enforcement</td>\n",
       "      <td>9723</td>\n",
       "    </tr>\n",
       "    <tr>\n",
       "      <th>997</th>\n",
       "      <td>998</td>\n",
       "      <td>9abEb8aaFd25E04</td>\n",
       "      <td>Houston and Sons</td>\n",
       "      <td>http://mcgee.com/</td>\n",
       "      <td>Kenya</td>\n",
       "      <td>Stand-alone multi-state neural-net</td>\n",
       "      <td>1981</td>\n",
       "      <td>Civic / Social Organization</td>\n",
       "      <td>5355</td>\n",
       "    </tr>\n",
       "    <tr>\n",
       "      <th>998</th>\n",
       "      <td>999</td>\n",
       "      <td>de5Fc71DE825bFc</td>\n",
       "      <td>Olson-Solomon</td>\n",
       "      <td>https://koch.com/</td>\n",
       "      <td>Cocos (Keeling) Islands</td>\n",
       "      <td>Virtual responsive moderator</td>\n",
       "      <td>2013</td>\n",
       "      <td>Investment Banking / Venture</td>\n",
       "      <td>3825</td>\n",
       "    </tr>\n",
       "    <tr>\n",
       "      <th>999</th>\n",
       "      <td>1000</td>\n",
       "      <td>3ddb89ecD83B533</td>\n",
       "      <td>Maddox, Owen and Shepherd</td>\n",
       "      <td>https://www.hamilton.com/</td>\n",
       "      <td>Guinea</td>\n",
       "      <td>Reactive bottom-line pricing structure</td>\n",
       "      <td>2019</td>\n",
       "      <td>Animation</td>\n",
       "      <td>4467</td>\n",
       "    </tr>\n",
       "  </tbody>\n",
       "</table>\n",
       "<p>1000 rows × 9 columns</p>\n",
       "</div>"
      ],
      "text/plain": [
       "     Index  Organization Id                       Name  \\\n",
       "0        1  E84A904909dF528                 Liu-Hoover   \n",
       "1        2  AAC4f9aBF86EAeF              Orr-Armstrong   \n",
       "2        3  ad2eb3C8C24DB87                  Gill-Lamb   \n",
       "3        4  D76BB12E5eE165B                Bauer-Weiss   \n",
       "4        5  2F31EddF2Db9aAE                Love-Palmer   \n",
       "..     ...              ...                        ...   \n",
       "995    996  e5CEc38aa9A580b              Bullock Group   \n",
       "996    997  cEF9B4675E4bBd0                  Mason Inc   \n",
       "997    998  9abEb8aaFd25E04           Houston and Sons   \n",
       "998    999  de5Fc71DE825bFc              Olson-Solomon   \n",
       "999   1000  3ddb89ecD83B533  Maddox, Owen and Shepherd   \n",
       "\n",
       "                          Website                   Country  \\\n",
       "0     http://www.day-hartman.org/            Western Sahara   \n",
       "1        https://www.chapman.net/                   Algeria   \n",
       "2                 http://lin.com/             Cote d'Ivoire   \n",
       "3    https://gillespie-stout.com/  United States of America   \n",
       "4             https://kramer.com/                   Denmark   \n",
       "..                            ...                       ...   \n",
       "995   https://medina-bernard.com/              Turkmenistan   \n",
       "996     https://franco-walls.com/  United States of America   \n",
       "997             http://mcgee.com/                     Kenya   \n",
       "998             https://koch.com/   Cocos (Keeling) Islands   \n",
       "999     https://www.hamilton.com/                    Guinea   \n",
       "\n",
       "                                      Description  Founded  \\\n",
       "0    Ergonomic zero administration knowledge user     1980   \n",
       "1          Ergonomic radical budgetary management     1970   \n",
       "2        Programmable intermediate conglomeration     2005   \n",
       "3                Synergistic maximized definition     2015   \n",
       "4                  Optimized optimizing moderator     2010   \n",
       "..                                            ...      ...   \n",
       "995            Public-key scalable conglomeration     1998   \n",
       "996                Distributed exuding initiative     2015   \n",
       "997            Stand-alone multi-state neural-net     1981   \n",
       "998                  Virtual responsive moderator     2013   \n",
       "999        Reactive bottom-line pricing structure     2019   \n",
       "\n",
       "                         Industry  Number of employees  \n",
       "0               Online Publishing                 6852  \n",
       "1                 Import / Export                 7994  \n",
       "2               Apparel / Fashion                 5105  \n",
       "3                           Dairy                 9069  \n",
       "4           Management Consulting                 6991  \n",
       "..                            ...                  ...  \n",
       "995                Wine / Spirits                 6547  \n",
       "996               Law Enforcement                 9723  \n",
       "997   Civic / Social Organization                 5355  \n",
       "998  Investment Banking / Venture                 3825  \n",
       "999                     Animation                 4467  \n",
       "\n",
       "[1000 rows x 9 columns]"
      ]
     },
     "execution_count": 20,
     "metadata": {},
     "output_type": "execute_result"
    }
   ],
   "source": [
    "# read new larger dataset\n",
    "org_data = pd.read_csv('csv_data/organizations-1000.csv')\n",
    "org_data"
   ]
  },
  {
   "cell_type": "code",
   "execution_count": null,
   "metadata": {},
   "outputs": [
    {
     "data": {
      "text/html": [
       "<div>\n",
       "<style scoped>\n",
       "    .dataframe tbody tr th:only-of-type {\n",
       "        vertical-align: middle;\n",
       "    }\n",
       "\n",
       "    .dataframe tbody tr th {\n",
       "        vertical-align: top;\n",
       "    }\n",
       "\n",
       "    .dataframe thead th {\n",
       "        text-align: right;\n",
       "    }\n",
       "</style>\n",
       "<table border=\"1\" class=\"dataframe\">\n",
       "  <thead>\n",
       "    <tr style=\"text-align: right;\">\n",
       "      <th></th>\n",
       "      <th>Index</th>\n",
       "      <th>Organization Id</th>\n",
       "      <th>Name</th>\n",
       "      <th>Website</th>\n",
       "      <th>Country</th>\n",
       "      <th>Description</th>\n",
       "      <th>Founded</th>\n",
       "      <th>Industry</th>\n",
       "      <th>Number of employees</th>\n",
       "    </tr>\n",
       "  </thead>\n",
       "  <tbody>\n",
       "    <tr>\n",
       "      <th>0</th>\n",
       "      <td>1</td>\n",
       "      <td>E84A904909dF528</td>\n",
       "      <td>Liu-Hoover</td>\n",
       "      <td>http://www.day-hartman.org/</td>\n",
       "      <td>Western Sahara</td>\n",
       "      <td>Ergonomic zero administration knowledge user</td>\n",
       "      <td>1980</td>\n",
       "      <td>Online Publishing</td>\n",
       "      <td>6852</td>\n",
       "    </tr>\n",
       "    <tr>\n",
       "      <th>1</th>\n",
       "      <td>2</td>\n",
       "      <td>AAC4f9aBF86EAeF</td>\n",
       "      <td>Orr-Armstrong</td>\n",
       "      <td>https://www.chapman.net/</td>\n",
       "      <td>Algeria</td>\n",
       "      <td>Ergonomic radical budgetary management</td>\n",
       "      <td>1970</td>\n",
       "      <td>Import / Export</td>\n",
       "      <td>7994</td>\n",
       "    </tr>\n",
       "    <tr>\n",
       "      <th>2</th>\n",
       "      <td>3</td>\n",
       "      <td>ad2eb3C8C24DB87</td>\n",
       "      <td>Gill-Lamb</td>\n",
       "      <td>http://lin.com/</td>\n",
       "      <td>Cote d'Ivoire</td>\n",
       "      <td>Programmable intermediate conglomeration</td>\n",
       "      <td>2005</td>\n",
       "      <td>Apparel / Fashion</td>\n",
       "      <td>5105</td>\n",
       "    </tr>\n",
       "    <tr>\n",
       "      <th>3</th>\n",
       "      <td>4</td>\n",
       "      <td>D76BB12E5eE165B</td>\n",
       "      <td>Bauer-Weiss</td>\n",
       "      <td>https://gillespie-stout.com/</td>\n",
       "      <td>United States of America</td>\n",
       "      <td>Synergistic maximized definition</td>\n",
       "      <td>2015</td>\n",
       "      <td>Dairy</td>\n",
       "      <td>9069</td>\n",
       "    </tr>\n",
       "    <tr>\n",
       "      <th>4</th>\n",
       "      <td>5</td>\n",
       "      <td>2F31EddF2Db9aAE</td>\n",
       "      <td>Love-Palmer</td>\n",
       "      <td>https://kramer.com/</td>\n",
       "      <td>Denmark</td>\n",
       "      <td>Optimized optimizing moderator</td>\n",
       "      <td>2010</td>\n",
       "      <td>Management Consulting</td>\n",
       "      <td>6991</td>\n",
       "    </tr>\n",
       "  </tbody>\n",
       "</table>\n",
       "</div>"
      ],
      "text/plain": [
       "   Index  Organization Id           Name                       Website  \\\n",
       "0      1  E84A904909dF528     Liu-Hoover   http://www.day-hartman.org/   \n",
       "1      2  AAC4f9aBF86EAeF  Orr-Armstrong      https://www.chapman.net/   \n",
       "2      3  ad2eb3C8C24DB87      Gill-Lamb               http://lin.com/   \n",
       "3      4  D76BB12E5eE165B    Bauer-Weiss  https://gillespie-stout.com/   \n",
       "4      5  2F31EddF2Db9aAE    Love-Palmer           https://kramer.com/   \n",
       "\n",
       "                    Country                                   Description  \\\n",
       "0            Western Sahara  Ergonomic zero administration knowledge user   \n",
       "1                   Algeria        Ergonomic radical budgetary management   \n",
       "2             Cote d'Ivoire      Programmable intermediate conglomeration   \n",
       "3  United States of America              Synergistic maximized definition   \n",
       "4                   Denmark                Optimized optimizing moderator   \n",
       "\n",
       "   Founded               Industry  Number of employees  \n",
       "0     1980      Online Publishing                 6852  \n",
       "1     1970        Import / Export                 7994  \n",
       "2     2005      Apparel / Fashion                 5105  \n",
       "3     2015                  Dairy                 9069  \n",
       "4     2010  Management Consulting                 6991  "
      ]
     },
     "execution_count": 21,
     "metadata": {},
     "output_type": "execute_result"
    }
   ],
   "source": [
    "# This function shows the head of the data frame, meaning the first 5 rows (if you did not specify any integer)\n",
    "org_data.head()"
   ]
  },
  {
   "cell_type": "code",
   "execution_count": null,
   "metadata": {},
   "outputs": [
    {
     "data": {
      "text/html": [
       "<div>\n",
       "<style scoped>\n",
       "    .dataframe tbody tr th:only-of-type {\n",
       "        vertical-align: middle;\n",
       "    }\n",
       "\n",
       "    .dataframe tbody tr th {\n",
       "        vertical-align: top;\n",
       "    }\n",
       "\n",
       "    .dataframe thead th {\n",
       "        text-align: right;\n",
       "    }\n",
       "</style>\n",
       "<table border=\"1\" class=\"dataframe\">\n",
       "  <thead>\n",
       "    <tr style=\"text-align: right;\">\n",
       "      <th></th>\n",
       "      <th>Index</th>\n",
       "      <th>Organization Id</th>\n",
       "      <th>Name</th>\n",
       "      <th>Website</th>\n",
       "      <th>Country</th>\n",
       "      <th>Description</th>\n",
       "      <th>Founded</th>\n",
       "      <th>Industry</th>\n",
       "      <th>Number of employees</th>\n",
       "    </tr>\n",
       "  </thead>\n",
       "  <tbody>\n",
       "    <tr>\n",
       "      <th>990</th>\n",
       "      <td>991</td>\n",
       "      <td>bFCb5cE5b9cEEFE</td>\n",
       "      <td>Nixon LLC</td>\n",
       "      <td>http://www.andersen-yu.com/</td>\n",
       "      <td>Tanzania</td>\n",
       "      <td>Reactive local ability</td>\n",
       "      <td>2019</td>\n",
       "      <td>Writing / Editing</td>\n",
       "      <td>7940</td>\n",
       "    </tr>\n",
       "    <tr>\n",
       "      <th>991</th>\n",
       "      <td>992</td>\n",
       "      <td>958CAbB9B17124D</td>\n",
       "      <td>Vega, Miller and Calderon</td>\n",
       "      <td>http://www.joseph-contreras.com/</td>\n",
       "      <td>Cambodia</td>\n",
       "      <td>Sharable asymmetric monitoring</td>\n",
       "      <td>2012</td>\n",
       "      <td>Professional Training</td>\n",
       "      <td>8250</td>\n",
       "    </tr>\n",
       "    <tr>\n",
       "      <th>992</th>\n",
       "      <td>993</td>\n",
       "      <td>35762be17cA3D47</td>\n",
       "      <td>Howe and Sons</td>\n",
       "      <td>https://www.nunez.com/</td>\n",
       "      <td>Cocos (Keeling) Islands</td>\n",
       "      <td>Future-proofed didactic middleware</td>\n",
       "      <td>2007</td>\n",
       "      <td>Logistics / Procurement</td>\n",
       "      <td>1424</td>\n",
       "    </tr>\n",
       "    <tr>\n",
       "      <th>993</th>\n",
       "      <td>994</td>\n",
       "      <td>6fcB10dA7E6f9Df</td>\n",
       "      <td>Hood Ltd</td>\n",
       "      <td>http://www.berry.com/</td>\n",
       "      <td>Cote d'Ivoire</td>\n",
       "      <td>Customer-focused 4thgeneration Graphical User ...</td>\n",
       "      <td>1972</td>\n",
       "      <td>Machinery</td>\n",
       "      <td>640</td>\n",
       "    </tr>\n",
       "    <tr>\n",
       "      <th>994</th>\n",
       "      <td>995</td>\n",
       "      <td>27CEbbbBCF4E17f</td>\n",
       "      <td>Curtis LLC</td>\n",
       "      <td>http://www.davenport.com/</td>\n",
       "      <td>Finland</td>\n",
       "      <td>Upgradable demand-driven success</td>\n",
       "      <td>1975</td>\n",
       "      <td>Philanthropy</td>\n",
       "      <td>36</td>\n",
       "    </tr>\n",
       "    <tr>\n",
       "      <th>995</th>\n",
       "      <td>996</td>\n",
       "      <td>e5CEc38aa9A580b</td>\n",
       "      <td>Bullock Group</td>\n",
       "      <td>https://medina-bernard.com/</td>\n",
       "      <td>Turkmenistan</td>\n",
       "      <td>Public-key scalable conglomeration</td>\n",
       "      <td>1998</td>\n",
       "      <td>Wine / Spirits</td>\n",
       "      <td>6547</td>\n",
       "    </tr>\n",
       "    <tr>\n",
       "      <th>996</th>\n",
       "      <td>997</td>\n",
       "      <td>cEF9B4675E4bBd0</td>\n",
       "      <td>Mason Inc</td>\n",
       "      <td>https://franco-walls.com/</td>\n",
       "      <td>United States of America</td>\n",
       "      <td>Distributed exuding initiative</td>\n",
       "      <td>2015</td>\n",
       "      <td>Law Enforcement</td>\n",
       "      <td>9723</td>\n",
       "    </tr>\n",
       "    <tr>\n",
       "      <th>997</th>\n",
       "      <td>998</td>\n",
       "      <td>9abEb8aaFd25E04</td>\n",
       "      <td>Houston and Sons</td>\n",
       "      <td>http://mcgee.com/</td>\n",
       "      <td>Kenya</td>\n",
       "      <td>Stand-alone multi-state neural-net</td>\n",
       "      <td>1981</td>\n",
       "      <td>Civic / Social Organization</td>\n",
       "      <td>5355</td>\n",
       "    </tr>\n",
       "    <tr>\n",
       "      <th>998</th>\n",
       "      <td>999</td>\n",
       "      <td>de5Fc71DE825bFc</td>\n",
       "      <td>Olson-Solomon</td>\n",
       "      <td>https://koch.com/</td>\n",
       "      <td>Cocos (Keeling) Islands</td>\n",
       "      <td>Virtual responsive moderator</td>\n",
       "      <td>2013</td>\n",
       "      <td>Investment Banking / Venture</td>\n",
       "      <td>3825</td>\n",
       "    </tr>\n",
       "    <tr>\n",
       "      <th>999</th>\n",
       "      <td>1000</td>\n",
       "      <td>3ddb89ecD83B533</td>\n",
       "      <td>Maddox, Owen and Shepherd</td>\n",
       "      <td>https://www.hamilton.com/</td>\n",
       "      <td>Guinea</td>\n",
       "      <td>Reactive bottom-line pricing structure</td>\n",
       "      <td>2019</td>\n",
       "      <td>Animation</td>\n",
       "      <td>4467</td>\n",
       "    </tr>\n",
       "  </tbody>\n",
       "</table>\n",
       "</div>"
      ],
      "text/plain": [
       "     Index  Organization Id                       Name  \\\n",
       "990    991  bFCb5cE5b9cEEFE                  Nixon LLC   \n",
       "991    992  958CAbB9B17124D  Vega, Miller and Calderon   \n",
       "992    993  35762be17cA3D47              Howe and Sons   \n",
       "993    994  6fcB10dA7E6f9Df                   Hood Ltd   \n",
       "994    995  27CEbbbBCF4E17f                 Curtis LLC   \n",
       "995    996  e5CEc38aa9A580b              Bullock Group   \n",
       "996    997  cEF9B4675E4bBd0                  Mason Inc   \n",
       "997    998  9abEb8aaFd25E04           Houston and Sons   \n",
       "998    999  de5Fc71DE825bFc              Olson-Solomon   \n",
       "999   1000  3ddb89ecD83B533  Maddox, Owen and Shepherd   \n",
       "\n",
       "                              Website                   Country  \\\n",
       "990       http://www.andersen-yu.com/                  Tanzania   \n",
       "991  http://www.joseph-contreras.com/                  Cambodia   \n",
       "992            https://www.nunez.com/   Cocos (Keeling) Islands   \n",
       "993             http://www.berry.com/             Cote d'Ivoire   \n",
       "994         http://www.davenport.com/                   Finland   \n",
       "995       https://medina-bernard.com/              Turkmenistan   \n",
       "996         https://franco-walls.com/  United States of America   \n",
       "997                 http://mcgee.com/                     Kenya   \n",
       "998                 https://koch.com/   Cocos (Keeling) Islands   \n",
       "999         https://www.hamilton.com/                    Guinea   \n",
       "\n",
       "                                           Description  Founded  \\\n",
       "990                             Reactive local ability     2019   \n",
       "991                     Sharable asymmetric monitoring     2012   \n",
       "992                 Future-proofed didactic middleware     2007   \n",
       "993  Customer-focused 4thgeneration Graphical User ...     1972   \n",
       "994                   Upgradable demand-driven success     1975   \n",
       "995                 Public-key scalable conglomeration     1998   \n",
       "996                     Distributed exuding initiative     2015   \n",
       "997                 Stand-alone multi-state neural-net     1981   \n",
       "998                       Virtual responsive moderator     2013   \n",
       "999             Reactive bottom-line pricing structure     2019   \n",
       "\n",
       "                         Industry  Number of employees  \n",
       "990             Writing / Editing                 7940  \n",
       "991         Professional Training                 8250  \n",
       "992       Logistics / Procurement                 1424  \n",
       "993                     Machinery                  640  \n",
       "994                  Philanthropy                   36  \n",
       "995                Wine / Spirits                 6547  \n",
       "996               Law Enforcement                 9723  \n",
       "997   Civic / Social Organization                 5355  \n",
       "998  Investment Banking / Venture                 3825  \n",
       "999                     Animation                 4467  "
      ]
     },
     "execution_count": 23,
     "metadata": {},
     "output_type": "execute_result"
    }
   ],
   "source": [
    "# This function shows the tail of the data frame, meaning the last 10 rows (here we did specify the amount of rows that we want to see)\n",
    "org_data.tail(10)"
   ]
  },
  {
   "cell_type": "code",
   "execution_count": null,
   "metadata": {},
   "outputs": [
    {
     "data": {
      "text/plain": [
       "Index                                                       2\n",
       "Organization Id                               AAC4f9aBF86EAeF\n",
       "Name                                            Orr-Armstrong\n",
       "Website                              https://www.chapman.net/\n",
       "Country                                               Algeria\n",
       "Description            Ergonomic radical budgetary management\n",
       "Founded                                                  1970\n",
       "Industry                                      Import / Export\n",
       "Number of employees                                      7994\n",
       "Name: 1, dtype: object"
      ]
     },
     "execution_count": 24,
     "metadata": {},
     "output_type": "execute_result"
    }
   ],
   "source": [
    "# It is also possible to select a specific row that you're interested in using \"iloc\" (which is an abbreviation for index location). \n",
    "# For example the row at index 1. Note that pandas data structures start with index 0.\n",
    "org_data.iloc[1]"
   ]
  },
  {
   "cell_type": "code",
   "execution_count": null,
   "metadata": {},
   "outputs": [
    {
     "data": {
      "text/html": [
       "<div>\n",
       "<style scoped>\n",
       "    .dataframe tbody tr th:only-of-type {\n",
       "        vertical-align: middle;\n",
       "    }\n",
       "\n",
       "    .dataframe tbody tr th {\n",
       "        vertical-align: top;\n",
       "    }\n",
       "\n",
       "    .dataframe thead th {\n",
       "        text-align: right;\n",
       "    }\n",
       "</style>\n",
       "<table border=\"1\" class=\"dataframe\">\n",
       "  <thead>\n",
       "    <tr style=\"text-align: right;\">\n",
       "      <th></th>\n",
       "      <th>Index</th>\n",
       "      <th>Organization Id</th>\n",
       "      <th>Name</th>\n",
       "      <th>Website</th>\n",
       "      <th>Country</th>\n",
       "      <th>Description</th>\n",
       "      <th>Founded</th>\n",
       "      <th>Industry</th>\n",
       "      <th>Number of employees</th>\n",
       "    </tr>\n",
       "  </thead>\n",
       "  <tbody>\n",
       "    <tr>\n",
       "      <th>0</th>\n",
       "      <td>1</td>\n",
       "      <td>E84A904909dF528</td>\n",
       "      <td>Liu-Hoover</td>\n",
       "      <td>http://www.day-hartman.org/</td>\n",
       "      <td>Western Sahara</td>\n",
       "      <td>Ergonomic zero administration knowledge user</td>\n",
       "      <td>1980</td>\n",
       "      <td>Online Publishing</td>\n",
       "      <td>6852</td>\n",
       "    </tr>\n",
       "    <tr>\n",
       "      <th>1</th>\n",
       "      <td>2</td>\n",
       "      <td>AAC4f9aBF86EAeF</td>\n",
       "      <td>Orr-Armstrong</td>\n",
       "      <td>https://www.chapman.net/</td>\n",
       "      <td>Algeria</td>\n",
       "      <td>Ergonomic radical budgetary management</td>\n",
       "      <td>1970</td>\n",
       "      <td>Import / Export</td>\n",
       "      <td>7994</td>\n",
       "    </tr>\n",
       "    <tr>\n",
       "      <th>2</th>\n",
       "      <td>3</td>\n",
       "      <td>ad2eb3C8C24DB87</td>\n",
       "      <td>Gill-Lamb</td>\n",
       "      <td>http://lin.com/</td>\n",
       "      <td>Cote d'Ivoire</td>\n",
       "      <td>Programmable intermediate conglomeration</td>\n",
       "      <td>2005</td>\n",
       "      <td>Apparel / Fashion</td>\n",
       "      <td>5105</td>\n",
       "    </tr>\n",
       "    <tr>\n",
       "      <th>3</th>\n",
       "      <td>4</td>\n",
       "      <td>D76BB12E5eE165B</td>\n",
       "      <td>Bauer-Weiss</td>\n",
       "      <td>https://gillespie-stout.com/</td>\n",
       "      <td>United States of America</td>\n",
       "      <td>Synergistic maximized definition</td>\n",
       "      <td>2015</td>\n",
       "      <td>Dairy</td>\n",
       "      <td>9069</td>\n",
       "    </tr>\n",
       "    <tr>\n",
       "      <th>4</th>\n",
       "      <td>5</td>\n",
       "      <td>2F31EddF2Db9aAE</td>\n",
       "      <td>Love-Palmer</td>\n",
       "      <td>https://kramer.com/</td>\n",
       "      <td>Denmark</td>\n",
       "      <td>Optimized optimizing moderator</td>\n",
       "      <td>2010</td>\n",
       "      <td>Management Consulting</td>\n",
       "      <td>6991</td>\n",
       "    </tr>\n",
       "    <tr>\n",
       "      <th>5</th>\n",
       "      <td>6</td>\n",
       "      <td>6774DC1dB00BD11</td>\n",
       "      <td>Farmer, Edwards and Andrade</td>\n",
       "      <td>http://wolfe-boyd.com/</td>\n",
       "      <td>Norfolk Island</td>\n",
       "      <td>Virtual leadingedge benchmark</td>\n",
       "      <td>2003</td>\n",
       "      <td>Mental Health Care</td>\n",
       "      <td>3503</td>\n",
       "    </tr>\n",
       "    <tr>\n",
       "      <th>6</th>\n",
       "      <td>7</td>\n",
       "      <td>116B5cD4eE1fAAc</td>\n",
       "      <td>Bass, Hester and Mcclain</td>\n",
       "      <td>https://meza-smith.com/</td>\n",
       "      <td>Uzbekistan</td>\n",
       "      <td>Multi-tiered system-worthy hub</td>\n",
       "      <td>1994</td>\n",
       "      <td>Computer Hardware</td>\n",
       "      <td>2762</td>\n",
       "    </tr>\n",
       "    <tr>\n",
       "      <th>7</th>\n",
       "      <td>8</td>\n",
       "      <td>AB2eA15d98b6BD4</td>\n",
       "      <td>Strickland, Gray and Jensen</td>\n",
       "      <td>http://kerr.info/</td>\n",
       "      <td>Israel</td>\n",
       "      <td>Team-oriented fresh-thinking knowledge user</td>\n",
       "      <td>1987</td>\n",
       "      <td>Performing Arts</td>\n",
       "      <td>7020</td>\n",
       "    </tr>\n",
       "    <tr>\n",
       "      <th>8</th>\n",
       "      <td>9</td>\n",
       "      <td>0c6D831e8DceCfE</td>\n",
       "      <td>Sparks, Decker and Powell</td>\n",
       "      <td>https://www.howe.net/</td>\n",
       "      <td>Israel</td>\n",
       "      <td>Down-sized content-based info-mediaries</td>\n",
       "      <td>1977</td>\n",
       "      <td>Marketing / Advertising / Sales</td>\n",
       "      <td>2709</td>\n",
       "    </tr>\n",
       "    <tr>\n",
       "      <th>9</th>\n",
       "      <td>10</td>\n",
       "      <td>9ABE0c8aee135d6</td>\n",
       "      <td>Osborn, Ford and Macdonald</td>\n",
       "      <td>http://www.mcdonald-watts.biz/</td>\n",
       "      <td>Syrian Arab Republic</td>\n",
       "      <td>Optional coherent focus group</td>\n",
       "      <td>1990</td>\n",
       "      <td>Investment Banking / Venture</td>\n",
       "      <td>5731</td>\n",
       "    </tr>\n",
       "  </tbody>\n",
       "</table>\n",
       "</div>"
      ],
      "text/plain": [
       "   Index  Organization Id                         Name  \\\n",
       "0      1  E84A904909dF528                   Liu-Hoover   \n",
       "1      2  AAC4f9aBF86EAeF                Orr-Armstrong   \n",
       "2      3  ad2eb3C8C24DB87                    Gill-Lamb   \n",
       "3      4  D76BB12E5eE165B                  Bauer-Weiss   \n",
       "4      5  2F31EddF2Db9aAE                  Love-Palmer   \n",
       "5      6  6774DC1dB00BD11  Farmer, Edwards and Andrade   \n",
       "6      7  116B5cD4eE1fAAc     Bass, Hester and Mcclain   \n",
       "7      8  AB2eA15d98b6BD4  Strickland, Gray and Jensen   \n",
       "8      9  0c6D831e8DceCfE    Sparks, Decker and Powell   \n",
       "9     10  9ABE0c8aee135d6   Osborn, Ford and Macdonald   \n",
       "\n",
       "                          Website                   Country  \\\n",
       "0     http://www.day-hartman.org/            Western Sahara   \n",
       "1        https://www.chapman.net/                   Algeria   \n",
       "2                 http://lin.com/             Cote d'Ivoire   \n",
       "3    https://gillespie-stout.com/  United States of America   \n",
       "4             https://kramer.com/                   Denmark   \n",
       "5          http://wolfe-boyd.com/            Norfolk Island   \n",
       "6         https://meza-smith.com/                Uzbekistan   \n",
       "7               http://kerr.info/                    Israel   \n",
       "8           https://www.howe.net/                    Israel   \n",
       "9  http://www.mcdonald-watts.biz/      Syrian Arab Republic   \n",
       "\n",
       "                                    Description  Founded  \\\n",
       "0  Ergonomic zero administration knowledge user     1980   \n",
       "1        Ergonomic radical budgetary management     1970   \n",
       "2      Programmable intermediate conglomeration     2005   \n",
       "3              Synergistic maximized definition     2015   \n",
       "4                Optimized optimizing moderator     2010   \n",
       "5                 Virtual leadingedge benchmark     2003   \n",
       "6                Multi-tiered system-worthy hub     1994   \n",
       "7   Team-oriented fresh-thinking knowledge user     1987   \n",
       "8       Down-sized content-based info-mediaries     1977   \n",
       "9                 Optional coherent focus group     1990   \n",
       "\n",
       "                          Industry  Number of employees  \n",
       "0                Online Publishing                 6852  \n",
       "1                  Import / Export                 7994  \n",
       "2                Apparel / Fashion                 5105  \n",
       "3                            Dairy                 9069  \n",
       "4            Management Consulting                 6991  \n",
       "5               Mental Health Care                 3503  \n",
       "6                Computer Hardware                 2762  \n",
       "7                  Performing Arts                 7020  \n",
       "8  Marketing / Advertising / Sales                 2709  \n",
       "9     Investment Banking / Venture                 5731  "
      ]
     },
     "execution_count": 25,
     "metadata": {},
     "output_type": "execute_result"
    }
   ],
   "source": [
    "# You can also select a range of rows such as shown below\n",
    "org_data.iloc[0:10]"
   ]
  },
  {
   "cell_type": "code",
   "execution_count": null,
   "metadata": {},
   "outputs": [
    {
     "data": {
      "text/plain": [
       "0                     Liu-Hoover\n",
       "1                  Orr-Armstrong\n",
       "2                      Gill-Lamb\n",
       "3                    Bauer-Weiss\n",
       "4                    Love-Palmer\n",
       "                 ...            \n",
       "995                Bullock Group\n",
       "996                    Mason Inc\n",
       "997             Houston and Sons\n",
       "998                Olson-Solomon\n",
       "999    Maddox, Owen and Shepherd\n",
       "Name: Name, Length: 1000, dtype: object"
      ]
     },
     "execution_count": 26,
     "metadata": {},
     "output_type": "execute_result"
    }
   ],
   "source": [
    "# What if we want to view only a certain column of the data frame?\n",
    "org_data['Name']"
   ]
  },
  {
   "cell_type": "code",
   "execution_count": null,
   "metadata": {},
   "outputs": [
    {
     "data": {
      "text/html": [
       "<div>\n",
       "<style scoped>\n",
       "    .dataframe tbody tr th:only-of-type {\n",
       "        vertical-align: middle;\n",
       "    }\n",
       "\n",
       "    .dataframe tbody tr th {\n",
       "        vertical-align: top;\n",
       "    }\n",
       "\n",
       "    .dataframe thead th {\n",
       "        text-align: right;\n",
       "    }\n",
       "</style>\n",
       "<table border=\"1\" class=\"dataframe\">\n",
       "  <thead>\n",
       "    <tr style=\"text-align: right;\">\n",
       "      <th></th>\n",
       "      <th>Name</th>\n",
       "      <th>Industry</th>\n",
       "    </tr>\n",
       "  </thead>\n",
       "  <tbody>\n",
       "    <tr>\n",
       "      <th>0</th>\n",
       "      <td>Liu-Hoover</td>\n",
       "      <td>Online Publishing</td>\n",
       "    </tr>\n",
       "    <tr>\n",
       "      <th>1</th>\n",
       "      <td>Orr-Armstrong</td>\n",
       "      <td>Import / Export</td>\n",
       "    </tr>\n",
       "    <tr>\n",
       "      <th>2</th>\n",
       "      <td>Gill-Lamb</td>\n",
       "      <td>Apparel / Fashion</td>\n",
       "    </tr>\n",
       "    <tr>\n",
       "      <th>3</th>\n",
       "      <td>Bauer-Weiss</td>\n",
       "      <td>Dairy</td>\n",
       "    </tr>\n",
       "    <tr>\n",
       "      <th>4</th>\n",
       "      <td>Love-Palmer</td>\n",
       "      <td>Management Consulting</td>\n",
       "    </tr>\n",
       "    <tr>\n",
       "      <th>...</th>\n",
       "      <td>...</td>\n",
       "      <td>...</td>\n",
       "    </tr>\n",
       "    <tr>\n",
       "      <th>995</th>\n",
       "      <td>Bullock Group</td>\n",
       "      <td>Wine / Spirits</td>\n",
       "    </tr>\n",
       "    <tr>\n",
       "      <th>996</th>\n",
       "      <td>Mason Inc</td>\n",
       "      <td>Law Enforcement</td>\n",
       "    </tr>\n",
       "    <tr>\n",
       "      <th>997</th>\n",
       "      <td>Houston and Sons</td>\n",
       "      <td>Civic / Social Organization</td>\n",
       "    </tr>\n",
       "    <tr>\n",
       "      <th>998</th>\n",
       "      <td>Olson-Solomon</td>\n",
       "      <td>Investment Banking / Venture</td>\n",
       "    </tr>\n",
       "    <tr>\n",
       "      <th>999</th>\n",
       "      <td>Maddox, Owen and Shepherd</td>\n",
       "      <td>Animation</td>\n",
       "    </tr>\n",
       "  </tbody>\n",
       "</table>\n",
       "<p>1000 rows × 2 columns</p>\n",
       "</div>"
      ],
      "text/plain": [
       "                          Name                      Industry\n",
       "0                   Liu-Hoover             Online Publishing\n",
       "1                Orr-Armstrong               Import / Export\n",
       "2                    Gill-Lamb             Apparel / Fashion\n",
       "3                  Bauer-Weiss                         Dairy\n",
       "4                  Love-Palmer         Management Consulting\n",
       "..                         ...                           ...\n",
       "995              Bullock Group                Wine / Spirits\n",
       "996                  Mason Inc               Law Enforcement\n",
       "997           Houston and Sons   Civic / Social Organization\n",
       "998              Olson-Solomon  Investment Banking / Venture\n",
       "999  Maddox, Owen and Shepherd                     Animation\n",
       "\n",
       "[1000 rows x 2 columns]"
      ]
     },
     "execution_count": 27,
     "metadata": {},
     "output_type": "execute_result"
    }
   ],
   "source": [
    "# You can also select multiple columns.\n",
    "org_data[['Name', 'Industry']]"
   ]
  },
  {
   "cell_type": "code",
   "execution_count": 14,
   "metadata": {},
   "outputs": [
    {
     "data": {
      "text/plain": [
       "0                     Liu-Hoover\n",
       "1                  Orr-Armstrong\n",
       "2                      Gill-Lamb\n",
       "3                    Bauer-Weiss\n",
       "4                    Love-Palmer\n",
       "                 ...            \n",
       "995                Bullock Group\n",
       "996                    Mason Inc\n",
       "997             Houston and Sons\n",
       "998                Olson-Solomon\n",
       "999    Maddox, Owen and Shepherd\n",
       "Name: Name, Length: 1000, dtype: object"
      ]
     },
     "execution_count": 14,
     "metadata": {},
     "output_type": "execute_result"
    }
   ],
   "source": [
    "# It is also possible to use a different method called \"loc\" (which is an abbrevation for location) to select a specific column or row. \n",
    "# \"loc\" takes two values to locate a value(s). The first value is the index value, the second the column value.\n",
    "\n",
    "# Here we are interested in all the values in the \"Name\" column\n",
    "org_data.loc[:, 'Name']"
   ]
  },
  {
   "cell_type": "code",
   "execution_count": null,
   "metadata": {},
   "outputs": [
    {
     "data": {
      "text/html": [
       "<div>\n",
       "<style scoped>\n",
       "    .dataframe tbody tr th:only-of-type {\n",
       "        vertical-align: middle;\n",
       "    }\n",
       "\n",
       "    .dataframe tbody tr th {\n",
       "        vertical-align: top;\n",
       "    }\n",
       "\n",
       "    .dataframe thead th {\n",
       "        text-align: right;\n",
       "    }\n",
       "</style>\n",
       "<table border=\"1\" class=\"dataframe\">\n",
       "  <thead>\n",
       "    <tr style=\"text-align: right;\">\n",
       "      <th></th>\n",
       "      <th>Name</th>\n",
       "      <th>Industry</th>\n",
       "    </tr>\n",
       "  </thead>\n",
       "  <tbody>\n",
       "    <tr>\n",
       "      <th>0</th>\n",
       "      <td>Liu-Hoover</td>\n",
       "      <td>Online Publishing</td>\n",
       "    </tr>\n",
       "    <tr>\n",
       "      <th>1</th>\n",
       "      <td>Orr-Armstrong</td>\n",
       "      <td>Import / Export</td>\n",
       "    </tr>\n",
       "    <tr>\n",
       "      <th>2</th>\n",
       "      <td>Gill-Lamb</td>\n",
       "      <td>Apparel / Fashion</td>\n",
       "    </tr>\n",
       "    <tr>\n",
       "      <th>3</th>\n",
       "      <td>Bauer-Weiss</td>\n",
       "      <td>Dairy</td>\n",
       "    </tr>\n",
       "    <tr>\n",
       "      <th>4</th>\n",
       "      <td>Love-Palmer</td>\n",
       "      <td>Management Consulting</td>\n",
       "    </tr>\n",
       "  </tbody>\n",
       "</table>\n",
       "</div>"
      ],
      "text/plain": [
       "            Name               Industry\n",
       "0     Liu-Hoover      Online Publishing\n",
       "1  Orr-Armstrong        Import / Export\n",
       "2      Gill-Lamb      Apparel / Fashion\n",
       "3    Bauer-Weiss                  Dairy\n",
       "4    Love-Palmer  Management Consulting"
      ]
     },
     "execution_count": 28,
     "metadata": {},
     "output_type": "execute_result"
    }
   ],
   "source": [
    "# It is even possible to combine the previous methods that we just mentioned\n",
    "org_data[['Name', 'Industry']].head()"
   ]
  },
  {
   "attachments": {},
   "cell_type": "markdown",
   "metadata": {},
   "source": [
    "#### Exercise 7: Creating and viewing DataFrames\n",
    "1. Create a pandas dataframe with 5 rows using a list of lists as input for the dataframe.\n",
    "2. The next step is to display the third row in a print statement.\n",
    "3. Finally, display the first 2 rows using a method that we showed earlier."
   ]
  },
  {
   "cell_type": "code",
   "execution_count": null,
   "metadata": {},
   "outputs": [],
   "source": [
    "# Fill in your solution in this cell"
   ]
  },
  {
   "attachments": {},
   "cell_type": "markdown",
   "metadata": {},
   "source": [
    "#### Sorting and Filtering\n",
    "In many cases you want to reformat the original data in a different way. For example, sorting the data based on a column or filter the data. \n",
    "This is possible in Pandas by using the `.sort_values()` and the `.loc[]` methods."
   ]
  },
  {
   "cell_type": "code",
   "execution_count": 9,
   "metadata": {},
   "outputs": [
    {
     "data": {
      "text/html": [
       "<div>\n",
       "<style scoped>\n",
       "    .dataframe tbody tr th:only-of-type {\n",
       "        vertical-align: middle;\n",
       "    }\n",
       "\n",
       "    .dataframe tbody tr th {\n",
       "        vertical-align: top;\n",
       "    }\n",
       "\n",
       "    .dataframe thead th {\n",
       "        text-align: right;\n",
       "    }\n",
       "</style>\n",
       "<table border=\"1\" class=\"dataframe\">\n",
       "  <thead>\n",
       "    <tr style=\"text-align: right;\">\n",
       "      <th></th>\n",
       "      <th>Index</th>\n",
       "      <th>Organization Id</th>\n",
       "      <th>Name</th>\n",
       "      <th>Website</th>\n",
       "      <th>Country</th>\n",
       "      <th>Description</th>\n",
       "      <th>Founded</th>\n",
       "      <th>Industry</th>\n",
       "      <th>Number of employees</th>\n",
       "    </tr>\n",
       "  </thead>\n",
       "  <tbody>\n",
       "    <tr>\n",
       "      <th>17</th>\n",
       "      <td>18</td>\n",
       "      <td>e5cab57FFF6f4bd</td>\n",
       "      <td>Abbott-Arroyo</td>\n",
       "      <td>http://delgado.net/</td>\n",
       "      <td>Hungary</td>\n",
       "      <td>Visionary holistic firmware</td>\n",
       "      <td>1994</td>\n",
       "      <td>Architecture / Planning</td>\n",
       "      <td>117</td>\n",
       "    </tr>\n",
       "    <tr>\n",
       "      <th>412</th>\n",
       "      <td>413</td>\n",
       "      <td>F932fE8fc8bdBB5</td>\n",
       "      <td>Acosta LLC</td>\n",
       "      <td>http://macias.com/</td>\n",
       "      <td>Egypt</td>\n",
       "      <td>Synergized mission-critical alliance</td>\n",
       "      <td>1987</td>\n",
       "      <td>Maritime</td>\n",
       "      <td>2378</td>\n",
       "    </tr>\n",
       "    <tr>\n",
       "      <th>310</th>\n",
       "      <td>311</td>\n",
       "      <td>DF8e88CfabC1f3d</td>\n",
       "      <td>Acosta-Lam</td>\n",
       "      <td>http://www.pugh.biz/</td>\n",
       "      <td>Finland</td>\n",
       "      <td>Front-line maximized task-force</td>\n",
       "      <td>1991</td>\n",
       "      <td>Oil / Energy / Solar / Greentech</td>\n",
       "      <td>4437</td>\n",
       "    </tr>\n",
       "    <tr>\n",
       "      <th>124</th>\n",
       "      <td>125</td>\n",
       "      <td>DcFdAc12Eca9f34</td>\n",
       "      <td>Adams and Sons</td>\n",
       "      <td>https://www.paul.biz/</td>\n",
       "      <td>Philippines</td>\n",
       "      <td>Organized motivating protocol</td>\n",
       "      <td>1987</td>\n",
       "      <td>Computer / Network Security</td>\n",
       "      <td>1107</td>\n",
       "    </tr>\n",
       "    <tr>\n",
       "      <th>92</th>\n",
       "      <td>93</td>\n",
       "      <td>A7b73fD2D7A38d0</td>\n",
       "      <td>Adkins Inc</td>\n",
       "      <td>https://www.nunez.info/</td>\n",
       "      <td>Israel</td>\n",
       "      <td>Visionary cohesive focus group</td>\n",
       "      <td>1989</td>\n",
       "      <td>Architecture / Planning</td>\n",
       "      <td>5338</td>\n",
       "    </tr>\n",
       "    <tr>\n",
       "      <th>...</th>\n",
       "      <td>...</td>\n",
       "      <td>...</td>\n",
       "      <td>...</td>\n",
       "      <td>...</td>\n",
       "      <td>...</td>\n",
       "      <td>...</td>\n",
       "      <td>...</td>\n",
       "      <td>...</td>\n",
       "      <td>...</td>\n",
       "    </tr>\n",
       "    <tr>\n",
       "      <th>672</th>\n",
       "      <td>673</td>\n",
       "      <td>f38fA25e81C049A</td>\n",
       "      <td>Young Inc</td>\n",
       "      <td>https://www.padilla.com/</td>\n",
       "      <td>Ukraine</td>\n",
       "      <td>Sharable human-resource contingency</td>\n",
       "      <td>2007</td>\n",
       "      <td>Maritime</td>\n",
       "      <td>5033</td>\n",
       "    </tr>\n",
       "    <tr>\n",
       "      <th>74</th>\n",
       "      <td>75</td>\n",
       "      <td>D9b675D794bBA4e</td>\n",
       "      <td>Young LLC</td>\n",
       "      <td>http://mcintyre-blankenship.org/</td>\n",
       "      <td>Iran</td>\n",
       "      <td>Cross-platform fault-tolerant collaboration</td>\n",
       "      <td>1970</td>\n",
       "      <td>Political Organization</td>\n",
       "      <td>5683</td>\n",
       "    </tr>\n",
       "    <tr>\n",
       "      <th>22</th>\n",
       "      <td>23</td>\n",
       "      <td>efc5C915AcbF437</td>\n",
       "      <td>Young, Buchanan and Vazquez</td>\n",
       "      <td>http://www.gregory-chapman.com/</td>\n",
       "      <td>Greenland</td>\n",
       "      <td>Customizable disintermediate attitude</td>\n",
       "      <td>2005</td>\n",
       "      <td>Sports</td>\n",
       "      <td>8299</td>\n",
       "    </tr>\n",
       "    <tr>\n",
       "      <th>421</th>\n",
       "      <td>422</td>\n",
       "      <td>d91eC733ad5eEdA</td>\n",
       "      <td>Zamora-Bryan</td>\n",
       "      <td>http://www.reid.com/</td>\n",
       "      <td>Seychelles</td>\n",
       "      <td>Face-to-face tertiary installation</td>\n",
       "      <td>1997</td>\n",
       "      <td>Food / Beverages</td>\n",
       "      <td>5592</td>\n",
       "    </tr>\n",
       "    <tr>\n",
       "      <th>540</th>\n",
       "      <td>541</td>\n",
       "      <td>979Fc3e02c5f6FC</td>\n",
       "      <td>Zhang, Sosa and Ayala</td>\n",
       "      <td>http://conrad.com/</td>\n",
       "      <td>Palestinian Territory</td>\n",
       "      <td>Object-based 4thgeneration website</td>\n",
       "      <td>1987</td>\n",
       "      <td>Military Industry</td>\n",
       "      <td>859</td>\n",
       "    </tr>\n",
       "  </tbody>\n",
       "</table>\n",
       "<p>1000 rows × 9 columns</p>\n",
       "</div>"
      ],
      "text/plain": [
       "     Index  Organization Id                         Name  \\\n",
       "17      18  e5cab57FFF6f4bd                Abbott-Arroyo   \n",
       "412    413  F932fE8fc8bdBB5                   Acosta LLC   \n",
       "310    311  DF8e88CfabC1f3d                   Acosta-Lam   \n",
       "124    125  DcFdAc12Eca9f34               Adams and Sons   \n",
       "92      93  A7b73fD2D7A38d0                   Adkins Inc   \n",
       "..     ...              ...                          ...   \n",
       "672    673  f38fA25e81C049A                    Young Inc   \n",
       "74      75  D9b675D794bBA4e                    Young LLC   \n",
       "22      23  efc5C915AcbF437  Young, Buchanan and Vazquez   \n",
       "421    422  d91eC733ad5eEdA                 Zamora-Bryan   \n",
       "540    541  979Fc3e02c5f6FC        Zhang, Sosa and Ayala   \n",
       "\n",
       "                              Website                Country  \\\n",
       "17                http://delgado.net/                Hungary   \n",
       "412                http://macias.com/                  Egypt   \n",
       "310              http://www.pugh.biz/                Finland   \n",
       "124             https://www.paul.biz/            Philippines   \n",
       "92            https://www.nunez.info/                 Israel   \n",
       "..                                ...                    ...   \n",
       "672          https://www.padilla.com/                Ukraine   \n",
       "74   http://mcintyre-blankenship.org/                   Iran   \n",
       "22    http://www.gregory-chapman.com/              Greenland   \n",
       "421              http://www.reid.com/             Seychelles   \n",
       "540                http://conrad.com/  Palestinian Territory   \n",
       "\n",
       "                                     Description  Founded  \\\n",
       "17                   Visionary holistic firmware     1994   \n",
       "412         Synergized mission-critical alliance     1987   \n",
       "310              Front-line maximized task-force     1991   \n",
       "124                Organized motivating protocol     1987   \n",
       "92                Visionary cohesive focus group     1989   \n",
       "..                                           ...      ...   \n",
       "672          Sharable human-resource contingency     2007   \n",
       "74   Cross-platform fault-tolerant collaboration     1970   \n",
       "22         Customizable disintermediate attitude     2005   \n",
       "421           Face-to-face tertiary installation     1997   \n",
       "540           Object-based 4thgeneration website     1987   \n",
       "\n",
       "                             Industry  Number of employees  \n",
       "17            Architecture / Planning                  117  \n",
       "412                          Maritime                 2378  \n",
       "310  Oil / Energy / Solar / Greentech                 4437  \n",
       "124       Computer / Network Security                 1107  \n",
       "92            Architecture / Planning                 5338  \n",
       "..                                ...                  ...  \n",
       "672                          Maritime                 5033  \n",
       "74             Political Organization                 5683  \n",
       "22                             Sports                 8299  \n",
       "421                  Food / Beverages                 5592  \n",
       "540                 Military Industry                  859  \n",
       "\n",
       "[1000 rows x 9 columns]"
      ]
     },
     "execution_count": 9,
     "metadata": {},
     "output_type": "execute_result"
    }
   ],
   "source": [
    "# Read in the organizational data\n",
    "org_data = pd.read_csv(\"csv_data/organizations-1000.csv\")\n",
    "\n",
    "# Sort organizational data by the values in the \"Name\" column\n",
    "sorted_data = org_data.sort_values(by=['Name'])\n",
    "sorted_data"
   ]
  },
  {
   "cell_type": "code",
   "execution_count": 15,
   "metadata": {},
   "outputs": [
    {
     "data": {
      "text/html": [
       "<div>\n",
       "<style scoped>\n",
       "    .dataframe tbody tr th:only-of-type {\n",
       "        vertical-align: middle;\n",
       "    }\n",
       "\n",
       "    .dataframe tbody tr th {\n",
       "        vertical-align: top;\n",
       "    }\n",
       "\n",
       "    .dataframe thead th {\n",
       "        text-align: right;\n",
       "    }\n",
       "</style>\n",
       "<table border=\"1\" class=\"dataframe\">\n",
       "  <thead>\n",
       "    <tr style=\"text-align: right;\">\n",
       "      <th></th>\n",
       "      <th>Index</th>\n",
       "      <th>Organization Id</th>\n",
       "      <th>Name</th>\n",
       "      <th>Website</th>\n",
       "      <th>Country</th>\n",
       "      <th>Description</th>\n",
       "      <th>Founded</th>\n",
       "      <th>Industry</th>\n",
       "      <th>Number of employees</th>\n",
       "    </tr>\n",
       "  </thead>\n",
       "  <tbody>\n",
       "    <tr>\n",
       "      <th>826</th>\n",
       "      <td>827</td>\n",
       "      <td>Fc7Bdf3Cd8C1Dd6</td>\n",
       "      <td>Rios, Huerta and Levy</td>\n",
       "      <td>http://www.curtis.net/</td>\n",
       "      <td>United Kingdom</td>\n",
       "      <td>Configurable optimizing interface</td>\n",
       "      <td>2010</td>\n",
       "      <td>Glass / Ceramics / Concrete</td>\n",
       "      <td>5011</td>\n",
       "    </tr>\n",
       "    <tr>\n",
       "      <th>509</th>\n",
       "      <td>510</td>\n",
       "      <td>f3B2e86f669AbA9</td>\n",
       "      <td>Hogan-Rodgers</td>\n",
       "      <td>https://garner-moreno.net/</td>\n",
       "      <td>Marshall Islands</td>\n",
       "      <td>Programmable stable interface</td>\n",
       "      <td>1970</td>\n",
       "      <td>Glass / Ceramics / Concrete</td>\n",
       "      <td>5029</td>\n",
       "    </tr>\n",
       "    <tr>\n",
       "      <th>672</th>\n",
       "      <td>673</td>\n",
       "      <td>f38fA25e81C049A</td>\n",
       "      <td>Young Inc</td>\n",
       "      <td>https://www.padilla.com/</td>\n",
       "      <td>Ukraine</td>\n",
       "      <td>Sharable human-resource contingency</td>\n",
       "      <td>2007</td>\n",
       "      <td>Maritime</td>\n",
       "      <td>5033</td>\n",
       "    </tr>\n",
       "    <tr>\n",
       "      <th>435</th>\n",
       "      <td>436</td>\n",
       "      <td>DfFd5cb3C19FA22</td>\n",
       "      <td>Finley-Sloan</td>\n",
       "      <td>https://www.marsh.org/</td>\n",
       "      <td>Bangladesh</td>\n",
       "      <td>Self-enabling bi-directional parallelism</td>\n",
       "      <td>2013</td>\n",
       "      <td>Graphic Design / Web Design</td>\n",
       "      <td>5042</td>\n",
       "    </tr>\n",
       "    <tr>\n",
       "      <th>757</th>\n",
       "      <td>758</td>\n",
       "      <td>B73B0DeeDeeCCa0</td>\n",
       "      <td>Flynn, Taylor and Herman</td>\n",
       "      <td>http://www.summers-collins.net/</td>\n",
       "      <td>Guyana</td>\n",
       "      <td>Secured transitional strategy</td>\n",
       "      <td>1981</td>\n",
       "      <td>Luxury Goods / Jewelry</td>\n",
       "      <td>5050</td>\n",
       "    </tr>\n",
       "    <tr>\n",
       "      <th>...</th>\n",
       "      <td>...</td>\n",
       "      <td>...</td>\n",
       "      <td>...</td>\n",
       "      <td>...</td>\n",
       "      <td>...</td>\n",
       "      <td>...</td>\n",
       "      <td>...</td>\n",
       "      <td>...</td>\n",
       "      <td>...</td>\n",
       "    </tr>\n",
       "    <tr>\n",
       "      <th>143</th>\n",
       "      <td>144</td>\n",
       "      <td>6b1Bbe5DfDAc090</td>\n",
       "      <td>Townsend, Richmond and Underwood</td>\n",
       "      <td>http://www.christensen.com/</td>\n",
       "      <td>Congo</td>\n",
       "      <td>Intuitive multimedia monitoring</td>\n",
       "      <td>1973</td>\n",
       "      <td>Music</td>\n",
       "      <td>9915</td>\n",
       "    </tr>\n",
       "    <tr>\n",
       "      <th>545</th>\n",
       "      <td>546</td>\n",
       "      <td>Ae2B2DE902c631b</td>\n",
       "      <td>Horton LLC</td>\n",
       "      <td>https://burnett-chase.com/</td>\n",
       "      <td>Puerto Rico</td>\n",
       "      <td>Persistent fault-tolerant Local Area Network</td>\n",
       "      <td>1984</td>\n",
       "      <td>Financial Services</td>\n",
       "      <td>9917</td>\n",
       "    </tr>\n",
       "    <tr>\n",
       "      <th>585</th>\n",
       "      <td>586</td>\n",
       "      <td>FDdF45e1defEBBC</td>\n",
       "      <td>Ware LLC</td>\n",
       "      <td>http://pratt.net/</td>\n",
       "      <td>Cuba</td>\n",
       "      <td>Decentralized client-driven throughput</td>\n",
       "      <td>1998</td>\n",
       "      <td>Real Estate / Mortgage</td>\n",
       "      <td>9941</td>\n",
       "    </tr>\n",
       "    <tr>\n",
       "      <th>502</th>\n",
       "      <td>503</td>\n",
       "      <td>ab7EcA27EcCbc44</td>\n",
       "      <td>Macdonald PLC</td>\n",
       "      <td>https://www.brown.biz/</td>\n",
       "      <td>Rwanda</td>\n",
       "      <td>Horizontal neutral algorithm</td>\n",
       "      <td>1971</td>\n",
       "      <td>Gambling / Casinos</td>\n",
       "      <td>9950</td>\n",
       "    </tr>\n",
       "    <tr>\n",
       "      <th>847</th>\n",
       "      <td>848</td>\n",
       "      <td>9AF2278d3Ae4DD2</td>\n",
       "      <td>Walker Group</td>\n",
       "      <td>http://weeks.net/</td>\n",
       "      <td>Palau</td>\n",
       "      <td>Compatible reciprocal firmware</td>\n",
       "      <td>2000</td>\n",
       "      <td>Civic / Social Organization</td>\n",
       "      <td>9952</td>\n",
       "    </tr>\n",
       "  </tbody>\n",
       "</table>\n",
       "<p>491 rows × 9 columns</p>\n",
       "</div>"
      ],
      "text/plain": [
       "     Index  Organization Id                              Name  \\\n",
       "826    827  Fc7Bdf3Cd8C1Dd6             Rios, Huerta and Levy   \n",
       "509    510  f3B2e86f669AbA9                     Hogan-Rodgers   \n",
       "672    673  f38fA25e81C049A                         Young Inc   \n",
       "435    436  DfFd5cb3C19FA22                      Finley-Sloan   \n",
       "757    758  B73B0DeeDeeCCa0          Flynn, Taylor and Herman   \n",
       "..     ...              ...                               ...   \n",
       "143    144  6b1Bbe5DfDAc090  Townsend, Richmond and Underwood   \n",
       "545    546  Ae2B2DE902c631b                        Horton LLC   \n",
       "585    586  FDdF45e1defEBBC                          Ware LLC   \n",
       "502    503  ab7EcA27EcCbc44                     Macdonald PLC   \n",
       "847    848  9AF2278d3Ae4DD2                      Walker Group   \n",
       "\n",
       "                             Website           Country  \\\n",
       "826           http://www.curtis.net/    United Kingdom   \n",
       "509       https://garner-moreno.net/  Marshall Islands   \n",
       "672         https://www.padilla.com/           Ukraine   \n",
       "435           https://www.marsh.org/        Bangladesh   \n",
       "757  http://www.summers-collins.net/            Guyana   \n",
       "..                               ...               ...   \n",
       "143      http://www.christensen.com/             Congo   \n",
       "545       https://burnett-chase.com/       Puerto Rico   \n",
       "585                http://pratt.net/              Cuba   \n",
       "502           https://www.brown.biz/            Rwanda   \n",
       "847                http://weeks.net/             Palau   \n",
       "\n",
       "                                      Description  Founded  \\\n",
       "826             Configurable optimizing interface     2010   \n",
       "509                 Programmable stable interface     1970   \n",
       "672           Sharable human-resource contingency     2007   \n",
       "435      Self-enabling bi-directional parallelism     2013   \n",
       "757                 Secured transitional strategy     1981   \n",
       "..                                            ...      ...   \n",
       "143               Intuitive multimedia monitoring     1973   \n",
       "545  Persistent fault-tolerant Local Area Network     1984   \n",
       "585        Decentralized client-driven throughput     1998   \n",
       "502                  Horizontal neutral algorithm     1971   \n",
       "847                Compatible reciprocal firmware     2000   \n",
       "\n",
       "                        Industry  Number of employees  \n",
       "826  Glass / Ceramics / Concrete                 5011  \n",
       "509  Glass / Ceramics / Concrete                 5029  \n",
       "672                     Maritime                 5033  \n",
       "435  Graphic Design / Web Design                 5042  \n",
       "757       Luxury Goods / Jewelry                 5050  \n",
       "..                           ...                  ...  \n",
       "143                        Music                 9915  \n",
       "545           Financial Services                 9917  \n",
       "585       Real Estate / Mortgage                 9941  \n",
       "502           Gambling / Casinos                 9950  \n",
       "847  Civic / Social Organization                 9952  \n",
       "\n",
       "[491 rows x 9 columns]"
      ]
     },
     "execution_count": 15,
     "metadata": {},
     "output_type": "execute_result"
    }
   ],
   "source": [
    "# Filter data by using .loc and creating a conditional statement within the loc method\n",
    "# Here we define a conditional statement in the loc method. We are only interested in the data where 'Number of employees' is greater than 5000\n",
    "filter_data = org_data.loc[org_data['Number of employees'] > 5000]\n",
    "\n",
    "# To be sure that this method is working we are going to sort filter_data by the number of employees and display the result\n",
    "sort_filter_data = filter_data.sort_values(by='Number of employees')\n",
    "sort_filter_data"
   ]
  },
  {
   "attachments": {},
   "cell_type": "markdown",
   "metadata": {},
   "source": [
    "#### Combining dataframes\n",
    "\n",
    "Now that we are familiar with dataframes it is sometimes useful to combine two dataframes into one dataframe. For example, when you have two different data sources and want to combine them into one dataframe for a better overview of all the available data. Here we introduce one of the possible methods to combine two dataframes. This method is called `.concat()`. \n",
    "\n",
    "See https://pandas.pydata.org/docs/user_guide/merging.html for a full overview of all the possible methods of combining dataframes."
   ]
  },
  {
   "cell_type": "code",
   "execution_count": null,
   "metadata": {},
   "outputs": [
    {
     "name": "stdout",
     "output_type": "stream",
     "text": [
      "   0  1  2  3\n",
      "0  1  2  3  4\n",
      "1  5  6  7  8\n",
      "\n",
      "\n",
      "    0   1   2   3\n",
      "0   9  10  11  12\n",
      "1  13  14  15  16\n",
      "\n",
      "\n",
      "    0   1   2   3\n",
      "0   1   2   3   4\n",
      "1   5   6   7   8\n",
      "2   9  10  11  12\n",
      "3  13  14  15  16\n"
     ]
    }
   ],
   "source": [
    "# merging and reshaping\n",
    "df_1 = pd.DataFrame([[1, 2, 3, 4], [5, 6, 7, 8]])\n",
    "df_2 = pd.DataFrame([[9, 10, 11, 12], [13, 14, 15, 16]])\n",
    "\n",
    "print(df_1)\n",
    "print('\\n')         #printing '\\n' prints only a new line. This is used to improve readability for the printed dataframes\n",
    "\n",
    "print(df_2)\n",
    "print('\\n')\n",
    "\n",
    "df_concat = pd.concat([df_1, df_2], ignore_index=True)        #ignore_index is used to reset index instead of using the original indices of the two individual dataframes. Feel free to test what happens if ignore_index is set to False\n",
    "print(df_concat)"
   ]
  },
  {
   "attachments": {},
   "cell_type": "markdown",
   "metadata": {},
   "source": [
    "#### Exercise 8: Combining DataFrames\n",
    "1. Create two dataframes using dictionaries and numerical values only. Use a different number of columns for each dataframe.\n",
    "2. Combine the two dataframes using the `.concat()` method we mentioned earlier. Don't forget about setting a value of the method to True.\n",
    "3. Do you notice anything when you display the combined dataframe and do you understand what is happening? "
   ]
  },
  {
   "cell_type": "code",
   "execution_count": null,
   "metadata": {},
   "outputs": [],
   "source": [
    "# Fill in your solution of exercise 8 here."
   ]
  },
  {
   "attachments": {},
   "cell_type": "markdown",
   "metadata": {},
   "source": [
    "#### Data Cleaning\n",
    "\n",
    "From the previous exercise we saw that concatenating two dataframes with different number of rows and columns result into missing values in the combined dataframe. Now we want to understand how to deal with these data inconsistencies. Another type of inconsistency are duplicates and we are going to show to deal with them as well.\n",
    "\n",
    "For a full overview of all possible methods to clean missing values see: https://pandas.pydata.org/docs/user_guide/missing_data.html"
   ]
  },
  {
   "cell_type": "code",
   "execution_count": null,
   "metadata": {},
   "outputs": [
    {
     "name": "stdout",
     "output_type": "stream",
     "text": [
      "   0  1   2    3\n",
      "0  1  2   3  4.0\n",
      "1  1  2   3  4.0\n",
      "2  5  6   7  NaN\n",
      "3  8  9  10  NaN\n",
      "\n",
      "\n",
      "   0  1  2    3\n",
      "0  1  2  3  4.0\n",
      "1  1  2  3  4.0\n",
      "\n",
      "\n",
      "   0  1   2    3\n",
      "0  1  2   3  4.0\n",
      "2  5  6   7  NaN\n",
      "3  8  9  10  NaN\n",
      "   0  1  2    3\n",
      "0  1  2  3  4.0\n"
     ]
    }
   ],
   "source": [
    "# initializing the dataframes to combine them into a single dataframe\n",
    "df_1 = pd.DataFrame([[1, 2, 3, 4], [1, 2, 3, 4]])\n",
    "df_2 = pd.DataFrame([[5, 6, 7], [8, 9, 10]])\n",
    "df_concat = pd.concat([df_1, df_2], ignore_index=True)\n",
    "print(df_concat)\n",
    "\n",
    "# clean (drop/delete) only the missing NaN values\n",
    "df_clean_nan = df_concat.dropna()\n",
    "print('\\n')\n",
    "print(df_clean_nan)\n",
    "\n",
    "# clean (drop/delete) only the duplicate values\n",
    "df_clean_dupl = df_concat.drop_duplicates()\n",
    "print('\\n')\n",
    "print(df_clean_dupl)"
   ]
  },
  {
   "attachments": {},
   "cell_type": "markdown",
   "metadata": {},
   "source": [
    "#### Exercise 9: Cleaning the data\n",
    "1. Create a single dataframe that has both missing values and duplicate values using only numerical values as data.\n",
    "2. Clean the abovementioned dataframes by deleting the missing values and duplicate values."
   ]
  },
  {
   "cell_type": "code",
   "execution_count": null,
   "metadata": {},
   "outputs": [],
   "source": [
    "# Fill in your solution of exercise 9 here."
   ]
  },
  {
   "attachments": {},
   "cell_type": "markdown",
   "metadata": {},
   "source": [
    "#### Applying statistics\n",
    "\n",
    "After cleaning the dataset we are ready for gaining insight into our data using built-in statistical methods of Pandas! We are going to cover methods such as: `.mean()`, `.count()`, and `.describe()`."
   ]
  },
  {
   "cell_type": "code",
   "execution_count": null,
   "metadata": {},
   "outputs": [
    {
     "name": "stdout",
     "output_type": "stream",
     "text": [
      "Founded                1995.852\n",
      "Number of employees    4964.996\n",
      "dtype: float64\n",
      "\n",
      "\n",
      "Index                  1000\n",
      "Organization Id        1000\n",
      "Name                   1000\n",
      "Website                1000\n",
      "Country                1000\n",
      "Description            1000\n",
      "Founded                1000\n",
      "Industry               1000\n",
      "Number of employees    1000\n",
      "dtype: int64\n",
      "\n",
      "\n",
      "             Index      Founded  Number of employees\n",
      "count  1000.000000  1000.000000          1000.000000\n",
      "mean    500.500000  1995.852000          4964.996000\n",
      "std     288.819436    15.096026          2812.789035\n",
      "min       1.000000  1970.000000             1.000000\n",
      "25%     250.750000  1983.000000          2612.000000\n",
      "50%     500.500000  1996.000000          4941.000000\n",
      "75%     750.250000  2009.000000          7348.250000\n",
      "max    1000.000000  2022.000000          9952.000000\n"
     ]
    }
   ],
   "source": [
    "# use the same organizations data set as earlier to calculate statistics\n",
    "org_data = pd.read_csv('csv_data/organizations-1000.csv')\n",
    "\n",
    "# calculate the mean of the numerical data inside org_data\n",
    "mean_data = org_data[['Founded', 'Number of employees']].mean()\n",
    "print(mean_data)\n",
    "print('\\n')\n",
    "\n",
    "# calculate the number of values (counts) of all the data inside org_data\n",
    "count_data = org_data.count()\n",
    "print(count_data)\n",
    "print('\\n')\n",
    "\n",
    "# give a quick summary of statistics using the describe method\n",
    "describe_data = org_data.describe()\n",
    "print(describe_data)"
   ]
  },
  {
   "attachments": {},
   "cell_type": "markdown",
   "metadata": {},
   "source": [
    "#### Exercise 10: Applying statistics on a dataframe\n",
    "1. Apply the `.describe()` on the solution (clean dataframe) of exercise 9\n",
    "2. Bonus exercise: use the non-cleaned data of exercise 9 and repeat the `.describe()` method. Do you notice anything different?"
   ]
  },
  {
   "cell_type": "code",
   "execution_count": null,
   "metadata": {},
   "outputs": [],
   "source": [
    "# Fill in your solution of exercise 10 here."
   ]
  },
  {
   "attachments": {},
   "cell_type": "markdown",
   "metadata": {},
   "source": [
    "#### Further reading/exercises\n",
    "If you are interested in gaining a deeper/better understanding of other functionalities within Pandas, then we advise you to read the following documentation of Pandas itself: https://pandas.pydata.org/docs/user_guide/\n",
    "Try to copy the examples using your own data to truly test your knowledge and understanding."
   ]
  },
  {
   "cell_type": "markdown",
   "metadata": {},
   "source": [
    "# MatPlotLib: An Intro to Data Visualisation"
   ]
  },
  {
   "cell_type": "code",
   "execution_count": 1,
   "metadata": {},
   "outputs": [],
   "source": [
    "import matplotlib as mpl\n",
    "import matplotlib.pyplot as plt\n",
    "import numpy as np"
   ]
  },
  {
   "cell_type": "markdown",
   "metadata": {},
   "source": [
    "What? \n",
    "1. MatPlotLib is a python package which helps with visualising your data\n",
    "2. It graphs your data on Figures which contain axes (x-y coordinates)\n"
   ]
  },
  {
   "cell_type": "markdown",
   "metadata": {},
   "source": [
    "### Types of plots "
   ]
  },
  {
   "cell_type": "markdown",
   "metadata": {},
   "source": [
    "1. Plot(x,y)"
   ]
  },
  {
   "cell_type": "code",
   "execution_count": null,
   "metadata": {},
   "outputs": [
    {
     "data": {
      "image/png": "[encoded data removed]",
      "text/plain": [
       "<Figure size 640x480 with 1 Axes>"
      ]
     },
     "metadata": {},
     "output_type": "display_data"
    }
   ],
   "source": [
    "x = [1, 2, 3, 4]\n",
    "y = [1, 4, 2, 3]\n",
    "\n",
    "fig, ax = plt.subplots() \n",
    "ax.plot(x,y)  \n",
    "plt.show()\n"
   ]
  },
  {
   "cell_type": "markdown",
   "metadata": {},
   "source": [
    "2. Scatterplot"
   ]
  },
  {
   "cell_type": "code",
   "execution_count": null,
   "metadata": {},
   "outputs": [
    {
     "data": {
      "image/png": "[encoded data removed]",
      "text/plain": [
       "<Figure size 640x480 with 1 Axes>"
      ]
     },
     "metadata": {},
     "output_type": "display_data"
    }
   ],
   "source": [
    "np.random.seed(3) \n",
    "x = np.random.normal(0, 2, 24)\n",
    "y = np.random.normal(0, 2, 24)\n",
    "\n",
    "# plot\n",
    "fig, ax = plt.subplots()\n",
    "ax.scatter(x, y)\n",
    "plt.show()"
   ]
  },
  {
   "cell_type": "markdown",
   "metadata": {},
   "source": [
    "3. Bar Chart"
   ]
  },
  {
   "cell_type": "code",
   "execution_count": null,
   "metadata": {},
   "outputs": [
    {
     "data": {
      "image/png": "[encoded data removed]",
      "text/plain": [
       "<Figure size 640x480 with 1 Axes>"
      ]
     },
     "metadata": {},
     "output_type": "display_data"
    }
   ],
   "source": [
    "np.random.seed(3)\n",
    "x = np.arange(8)\n",
    "y = np.random.uniform(2, 7, len(x))\n",
    "\n",
    "# plot\n",
    "fig, ax = plt.subplots()\n",
    "ax.bar(x, y)\n",
    "plt.show()"
   ]
  },
  {
   "cell_type": "markdown",
   "metadata": {},
   "source": [
    "4. Boxplot"
   ]
  },
  {
   "cell_type": "code",
   "execution_count": null,
   "metadata": {},
   "outputs": [
    {
     "data": {
      "image/png": "[encoded data removed]",
      "text/plain": [
       "<Figure size 640x480 with 1 Axes>"
      ]
     },
     "metadata": {},
     "output_type": "display_data"
    }
   ],
   "source": [
    "np.random.seed(10)\n",
    "D = np.random.normal((3, 5, 4), (1.25, 1.00, 1.25), (100, 3))\n",
    "\n",
    "# plot\n",
    "fig, ax = plt.subplots()\n",
    "ax.boxplot(D)\n",
    "plt.show()\n"
   ]
  },
  {
   "cell_type": "markdown",
   "metadata": {},
   "source": [
    "### How to make your graph more clear"
   ]
  },
  {
   "cell_type": "code",
   "execution_count": null,
   "metadata": {},
   "outputs": [
    {
     "data": {
      "text/plain": [
       "<matplotlib.legend.Legend at 0x151d42410>"
      ]
     },
     "metadata": {},
     "output_type": "display_data"
    },
    {
     "data": {
      "image/png": "[encoded data removed]",
      "text/plain": [
       "<Figure size 500x270 with 1 Axes>"
      ]
     },
     "metadata": {},
     "output_type": "display_data"
    }
   ],
   "source": [
    "# An example: \n",
    "\n",
    "x = np.linspace(0, 2, 100) \n",
    "y = np.linspace(0, 7, 100) \n",
    "\n",
    "plt.figure(figsize=(5, 2.7), layout='constrained')\n",
    "plt.plot(x, y, color=\"red\", label='linear')  \n",
    "plt.plot(x, y**2, color=\"orange\", linestyle= \"--\", label='quadratic') \n",
    "plt.xlabel('x label')\n",
    "plt.ylabel('y label')\n",
    "plt.title(\"Simple Plot\")\n",
    "plt.legend()"
   ]
  },
  {
   "cell_type": "markdown",
   "metadata": {},
   "source": [
    "Excercise 1: \n",
    "\n",
    "Edit the above graph to: \n",
    "\n",
    "1. Change the colour used for both lines \n",
    "2. Change the linestyle \n",
    "3. Change the x and y labels \n",
    "4. Change the legend labels \n",
    "4. Change the title \n",
    "\n",
    "\n",
    "The following can help: \n",
    "1. https://matplotlib.org\n",
    "2. Search stack overflow "
   ]
  },
  {
   "cell_type": "markdown",
   "metadata": {},
   "source": [
    "## Implement the above knowledge to the 4 kinds of plot shown to make them more clear: "
   ]
  },
  {
   "cell_type": "markdown",
   "metadata": {},
   "source": [
    "## Excercise 2: \n",
    "\n",
    "For the above 4 kinds of plot\n",
    "1. plot(x,y)\n",
    "2. scatter(x,y)\n",
    "3. bar(x,y)\n",
    "4. boxplot(x)\n",
    "\n",
    "\n",
    "Add the following:\n",
    "\n",
    "1. Color \n",
    "2. xlim, ylim \n",
    "3. Title \n",
    "4. labels \n",
    "5. linestyle\n",
    "6. Any extras \n"
   ]
  },
  {
   "cell_type": "markdown",
   "metadata": {},
   "source": [
    "#### Example Solutions: "
   ]
  },
  {
   "cell_type": "code",
   "execution_count": null,
   "metadata": {},
   "outputs": [],
   "source": [
    "#add your answer here for plot(x,y)"
   ]
  },
  {
   "cell_type": "code",
   "execution_count": null,
   "metadata": {},
   "outputs": [],
   "source": [
    "#add your answer here for bar(x,y)"
   ]
  },
  {
   "cell_type": "code",
   "execution_count": null,
   "metadata": {},
   "outputs": [],
   "source": [
    "#add your answer here for boxplot"
   ]
  },
  {
   "cell_type": "code",
   "execution_count": null,
   "metadata": {},
   "outputs": [],
   "source": [
    "#add your answer here for scatterplot "
   ]
  },
  {
   "cell_type": "markdown",
   "metadata": {},
   "source": [
    "Excercise 3: \n",
    "\n",
    "Using the above data from the pandas tutorial: plot year founded vs number of employees: \n",
    "\n",
    "Ideas to include: \n",
    "1. Which is most suitable for the y axis and the x axis? \n",
    "2. Which kind of graph above is most suitable? \n",
    "3. Label the axes\n",
    "4. Label the graph \n",
    "5. Change the colors\n",
    "6. Any other changes you would like to add to make the graph easy to interperate "
   ]
  },
  {
   "cell_type": "markdown",
   "metadata": {},
   "source": [
    "Solution: "
   ]
  },
  {
   "cell_type": "code",
   "execution_count": null,
   "metadata": {},
   "outputs": [],
   "source": [
    "#load the data \n",
    "#print to see the names of the different columns "
   ]
  },
  {
   "cell_type": "code",
   "execution_count": null,
   "metadata": {},
   "outputs": [],
   "source": [
    "#your matplotlib answer here:"
   ]
  }
 ],
 "metadata": {
  "kernelspec": {
   "display_name": "data_science",
   "language": "python",
   "name": "python3"
  },
  "language_info": {
   "codemirror_mode": {
    "name": "ipython",
    "version": 3
   },
   "file_extension": ".py",
   "mimetype": "text/x-python",
   "name": "python",
   "nbconvert_exporter": "python",
   "pygments_lexer": "ipython3",
   "version": "3.11.3"
  },
  "orig_nbformat": 4,
  "vscode": {
   "interpreter": {
    "hash": "9ab0d8098df426ef8fc77b974d00ef1335da7881759b559e9dde3f97c8e7d45d"
   }
  }
 },
 "nbformat": 4,
 "nbformat_minor": 2
}
